{
 "cells": [
  {
   "cell_type": "markdown",
   "id": "e2b430db",
   "metadata": {},
   "source": [
    "# \"My final project\"\n",
    "> \"Cooperative Congressional Election Study\"\n",
    "\n",
    "- toc: false\n",
    "- branch: master"
   ]
  },
  {
   "cell_type": "markdown",
   "id": "4bad0eef",
   "metadata": {},
   "source": [
    "Introduction - This dataset combines 15 years (2006 – 2020) of the Cooperative Congressional Election Study\n",
    "(CCES). The CCES is an online survey conducted around November of each year, asking a range\n",
    "of questions on political behavior and public opinion. Its principal investigators are Stephen Ansolabehere, Sam Luks, and Brian Schaffner.\n"
   ]
  },
  {
   "cell_type": "markdown",
   "id": "d678c2e8",
   "metadata": {},
   "source": [
    "Dataset content - Each year’s CCES asks hundreds of questions, many of which change from year to year. This\n",
    "cumulative file only includes a subset of those questions that are standard and important. It standardizes (harmonizes) its values across years and creates a few new variables too. Users can still\n",
    "merge in their year-specific questions of interest easily into this cumulative file and take advantage\n",
    "of its standardized variables."
   ]
  },
  {
   "cell_type": "code",
   "execution_count": 2,
   "id": "31ff181d",
   "metadata": {},
   "outputs": [],
   "source": [
    "import pandas as pd"
   ]
  },
  {
   "cell_type": "markdown",
   "id": "f26efbe1",
   "metadata": {},
   "source": [
    "Importing pandas library for working with relational and labeled data"
   ]
  },
  {
   "cell_type": "code",
   "execution_count": 3,
   "id": "212cc2f3",
   "metadata": {},
   "outputs": [],
   "source": [
    "df = pd.read_stata('cumulative_2006-2020.dta')"
   ]
  },
  {
   "cell_type": "markdown",
   "id": "ccd30682",
   "metadata": {},
   "source": [
    "A Stata dta version is provided. cumulative_2006-2020.dta can be read by Stata"
   ]
  },
  {
   "cell_type": "markdown",
   "id": "acfb1a00",
   "metadata": {},
   "source": [
    "Reading my CCES -  Cooperative Congressional Election Study dataset"
   ]
  },
  {
   "cell_type": "markdown",
   "id": "ce7096cf",
   "metadata": {},
   "source": [
    "Variables:\n",
    "The sections below provide summary statistics and more information on each variable.\n"
   ]
  },
  {
   "cell_type": "markdown",
   "id": "cfe2d24b",
   "metadata": {},
   "source": [
    "Administration - year: CCES year, starttime: Start time, tookpost: Took post-election wave"
   ]
  },
  {
   "cell_type": "markdown",
   "id": "4beca299",
   "metadata": {},
   "source": [
    "Weights - weight: Survey weight (Year-Specific), weight_cumulative: Survey weight (Cumulative), weight_post: Survey weight for post-election wave, rvweight: Survey weights to validated registered voters, rvweight_post: Survey weights to validated registered voters, post-election wave"
   ]
  },
  {
   "cell_type": "markdown",
   "id": "ebe3b020",
   "metadata": {},
   "source": [
    "Geography\n",
    "A series of variables for the respondent’s location:\n",
    "– state: State (FIPS)\n",
    "– state_post: State (FIPS), post-election\n",
    "– st: State abbreviation (FIPS)\n",
    "– st_post: State abbreviation (FIPS), post-election\n",
    "– dist: Congressional district number in current Congress\n",
    "– dist_post: Congressional district number in current Congress, post-election\n",
    "– dist_up: Congressional district number for upcoming Congress\n",
    "– dist_up_post: Congressional district number for upcoming Congress, post-election\n",
    "– cd: Congressional district in current Congress\n",
    "– cd_post: Congressional district in current Congress, post-election\n",
    "– cd_up: Congressional district in upcoming Congress\n",
    "– cd_up_post: Congressional district in upcoming Congress, post-election\n",
    "– zipcode: Zipcode (lookupzip)\n",
    "– county_fips: County of residence"
   ]
  },
  {
   "cell_type": "markdown",
   "id": "248827b8",
   "metadata": {},
   "source": [
    "Demographics :\n",
    "gender: Gender\n",
    "“Are you male or female?”\n",
    "\n",
    "birthyr: Year of birth\n",
    "“In what year were you born?”\n",
    "\n",
    "age: Ag\n",
    "Approximate age computed from the year of survey minus Year of Birth\n",
    "\n",
    "educ: Education\n",
    "“What is the highest level of education you have completed?”\n",
    "\n",
    "race: Race\n",
    "“What racial or ethnic group best describes you?”\n",
    "\n",
    "hispanic: Hispanic\n",
    "“Are you of Spanish, Latino, or Hispanic origin or descent? [Asked if response to race is not\n",
    "Hispanic]”\n",
    "\n",
    "citizen: Citizenship\n",
    "[Based on self-report for immigration status]\n",
    "\n",
    "religion: Religion\n",
    "“What is your present religion, if any?\n",
    "\n",
    "Family Status\n",
    "marstat: Marital Status\n",
    "“What is your marital status?”\n",
    "\n",
    "ownhome: Home Ownership\n",
    "“Do you own your home or pay rent?”\n",
    "\n",
    "has_child: Parent of Young Children\n",
    "“Are you the parent or guardian of any children under the age of 18?”\n",
    "\n",
    "no_milstat: Military Status (None)\n",
    "[Based on military household question; neither respondent nor immediate family has served]\n",
    "\n"
   ]
  },
  {
   "cell_type": "code",
   "execution_count": 4,
   "id": "a5e1c8b3",
   "metadata": {},
   "outputs": [
    {
     "name": "stdout",
     "output_type": "stream",
     "text": [
      "<class 'pandas.core.frame.DataFrame'>\n",
      "Int64Index: 531755 entries, 0 to 531754\n",
      "Data columns (total 93 columns):\n",
      " #   Column             Non-Null Count   Dtype         \n",
      "---  ------             --------------   -----         \n",
      " 0   year               531755 non-null  int32         \n",
      " 1   case_id            531755 non-null  object        \n",
      " 2   weight             531755 non-null  float64       \n",
      " 3   weight_cumulative  531755 non-null  float64       \n",
      " 4   state              531755 non-null  category      \n",
      " 5   st                 531755 non-null  category      \n",
      " 6   cong               531755 non-null  category      \n",
      " 7   cong_up            531755 non-null  category      \n",
      " 8   state_post         352626 non-null  category      \n",
      " 9   st_post            352626 non-null  category      \n",
      " 10  dist               531755 non-null  int32         \n",
      " 11  dist_up            531755 non-null  int32         \n",
      " 12  cd                 531755 non-null  object        \n",
      " 13  cd_up              531755 non-null  object        \n",
      " 14  dist_post          352625 non-null  float64       \n",
      " 15  dist_up_post       352625 non-null  float64       \n",
      " 16  cd_post            531755 non-null  object        \n",
      " 17  cd_up_post         531755 non-null  object        \n",
      " 18  zipcode            531755 non-null  object        \n",
      " 19  county_fips        531755 non-null  object        \n",
      " 20  tookpost           420956 non-null  category      \n",
      " 21  weight_post        201136 non-null  float64       \n",
      " 22  rvweight           40017 non-null   float64       \n",
      " 23  rvweight_post      36949 non-null   float64       \n",
      " 24  starttime          531755 non-null  datetime64[ns]\n",
      " 25  pid3               522801 non-null  category      \n",
      " 26  pid3_leaner        528739 non-null  category      \n",
      " 27  pid7               528739 non-null  category      \n",
      " 28  ideo5              529941 non-null  category      \n",
      " 29  gender             531755 non-null  category      \n",
      " 30  birthyr            531755 non-null  int32         \n",
      " 31  age                531755 non-null  int32         \n",
      " 32  race               531755 non-null  category      \n",
      " 33  hispanic           404598 non-null  category      \n",
      " 34  citizen            505832 non-null  category      \n",
      " 35  educ               531688 non-null  category      \n",
      " 36  marstat            530169 non-null  category      \n",
      " 37  faminc             530180 non-null  category      \n",
      " 38  union              487744 non-null  category      \n",
      " 39  union_hh           485132 non-null  category      \n",
      " 40  employ             521462 non-null  category      \n",
      " 41  no_healthins       452471 non-null  category      \n",
      " 42  has_child          484434 non-null  category      \n",
      " 43  ownhome            486713 non-null  category      \n",
      " 44  no_milstat         521661 non-null  category      \n",
      " 45  religion           494305 non-null  category      \n",
      " 46  economy_retro      530757 non-null  category      \n",
      " 47  newsint            494702 non-null  category      \n",
      " 48  approval_pres      530925 non-null  category      \n",
      " 49  approval_rep       523629 non-null  category      \n",
      " 50  approval_sen1      526928 non-null  category      \n",
      " 51  approval_sen2      526158 non-null  category      \n",
      " 52  approval_gov       529260 non-null  category      \n",
      " 53  intent_pres_08     30195 non-null   category      \n",
      " 54  intent_pres_12     52243 non-null   category      \n",
      " 55  intent_pres_16     63002 non-null   category      \n",
      " 56  intent_pres_20     48951 non-null   category      \n",
      " 57  voted_pres_08      166602 non-null  category      \n",
      " 58  voted_pres_12      157972 non-null  category      \n",
      " 59  voted_pres_16      185127 non-null  category      \n",
      " 60  voted_pres_20      45652 non-null   category      \n",
      " 61  intent_pres_party  170489 non-null  category      \n",
      " 62  voted_pres_party   398093 non-null  category      \n",
      " 63  vv_regstatus       323535 non-null  category      \n",
      " 64  vv_party_gen       235335 non-null  category      \n",
      " 65  vv_party_prm       235335 non-null  category      \n",
      " 66  vv_turnout_gvm     359956 non-null  category      \n",
      " 67  vv_turnout_pvm     323535 non-null  category      \n",
      " 68  intent_rep         391502 non-null  category      \n",
      " 69  intent_rep_party   281560 non-null  category      \n",
      " 70  voted_rep          296137 non-null  category      \n",
      " 71  voted_rep_party    271594 non-null  category      \n",
      " 72  intent_gov         185853 non-null  category      \n",
      " 73  intent_gov_party   147881 non-null  category      \n",
      " 74  voted_gov          137592 non-null  category      \n",
      " 75  voted_gov_party    128640 non-null  category      \n",
      " 76  intent_sen         263541 non-null  category      \n",
      " 77  intent_sen_party   203241 non-null  category      \n",
      " 78  voted_sen          199506 non-null  category      \n",
      " 79  voted_sen_party    188355 non-null  category      \n",
      " 80  intent_rep_chosen  531755 non-null  object        \n",
      " 81  intent_sen_chosen  531755 non-null  object        \n",
      " 82  intent_gov_chosen  531755 non-null  object        \n",
      " 83  voted_rep_chosen   531755 non-null  object        \n",
      " 84  voted_sen_chosen   531755 non-null  object        \n",
      " 85  voted_gov_chosen   531755 non-null  object        \n",
      " 86  rep_current        531755 non-null  object        \n",
      " 87  rep_icpsr          531755 non-null  object        \n",
      " 88  sen1_current       531755 non-null  object        \n",
      " 89  sen1_icpsr         531755 non-null  object        \n",
      " 90  sen2_current       531755 non-null  object        \n",
      " 91  sen2_icpsr         531755 non-null  object        \n",
      " 92  gov_current        531755 non-null  object        \n",
      "dtypes: category(60), datetime64[ns](1), float64(7), int32(5), object(20)\n",
      "memory usage: 158.2+ MB\n"
     ]
    }
   ],
   "source": [
    "df.info()"
   ]
  },
  {
   "cell_type": "markdown",
   "id": "f7d5c30b",
   "metadata": {},
   "source": [
    "Displaying the features of my dataset"
   ]
  },
  {
   "cell_type": "markdown",
   "id": "cd75a785",
   "metadata": {},
   "source": [
    "\n",
    "Observations in even years include indicators for validated voting, which means that YouGov has\n",
    "matched survey respondents’ personal identifiable information to public voter files, which in turn\n",
    "officially record whether a person has voted or not. Validation is often completed in the summer\n",
    "following the election."
   ]
  },
  {
   "cell_type": "markdown",
   "id": "335296ad",
   "metadata": {},
   "source": [
    "Validations : vv_regstatus: Validated registration status, vv_party_gen: Validated registered party,vv_party_prm: Validated registered Primary party, "
   ]
  },
  {
   "cell_type": "markdown",
   "id": "08cfc8bb",
   "metadata": {},
   "source": [
    "Turnout:\n",
    "vv_turnout_gvm: Validated turnout General Election, vv_turnout_pvm: Validated turnout Primary Election (Congressional)"
   ]
  },
  {
   "cell_type": "markdown",
   "id": "eebe6b00",
   "metadata": {},
   "source": [
    "Partisan Identity\n",
    "pid3: Partisan identity (3 point)\n",
    "“Generally speaking, do you think of yourself as a . . . ?”\n",
    "\n",
    "pid7: Partisan identity (7 point)\n",
    "\n",
    "pid3_leaner: Partisan identity (including leaners)\n",
    "\n",
    "ideo5: Ideology (5 point)\n",
    "“In general, how would you describe your own political viewpoint?”\n",
    "\n"
   ]
  },
  {
   "cell_type": "markdown",
   "id": "2522ac40",
   "metadata": {},
   "source": [
    "Economics and Income\n",
    "faminc: Family Income\n",
    "“Thinking back over the last year, what was your family’s annual income?\n",
    "\n",
    "employ: Employment Status\n",
    "“Which of the following best describes your current employment status?”\n",
    "\n",
    "no_healthins: Uninsured\n",
    "Based on health insurance question; respondent has none of the insurance options given\n",
    "\n",
    "union: Union membership\n",
    "“Are you a member of a union?\"\n",
    "\n",
    "union_hh: Union membership in household\n",
    "“Other than yourself, is any member of your household a union member?”\n",
    "\n",
    "economy_retro: Retrospective economy\n",
    "“OVER THE PAST YEAR the nation’s economy has . . . ?”\n",
    "\n",
    "\n"
   ]
  },
  {
   "cell_type": "markdown",
   "id": "b6a2a961",
   "metadata": {},
   "source": [
    "News Interest\n",
    "newsint: News Interest\n",
    "“Some people seem to follow what’s going on in government and public affairs most of the time,\n",
    "whether there’s an election going on or not. Others aren’t that interested. Would you say you follow\n",
    "what’s going on in government and public affairs ..”\n",
    "\n"
   ]
  },
  {
   "cell_type": "markdown",
   "id": "042b1470",
   "metadata": {},
   "source": [
    "Vote Choice Variables:\n",
    "A note on the terms \"intent\" and \"voted\": In this dataset we make the distinction between “intent” / “preference” vs. “voted” / “vote choice”. “Intent” (or “preference”) refers to the response to the\n",
    "prospective question of the sort “who would you vote for?” in the pre-election wave. “Vote choice”\n",
    "refers to the response to the retrospective question of the sort “in the election this November, who\n",
    "did you vote for?”\n",
    "Response to the vote choice questions coalesces both post-election wave responses (the bulk\n",
    "of the responses) and pre-election respondents who reported having already voted early. In 2018,\n",
    "it also coalesces the responses to the straight ticket party option so that those who\n",
    "selected the Republican straight party ticket in the applicable states will appear to have voted for\n",
    "the Republican candidate in all offices. The straight ticket party option was not asked in other years.\n",
    "The category “Did Not Vote” is recorded only when the respondent selects that option. Respondents who have missing values for intent or vote choice can also be non-voters for a variety of reasons. "
   ]
  },
  {
   "cell_type": "markdown",
   "id": "cdfb86f5",
   "metadata": {},
   "source": [
    "My analysis will be based out this section below:"
   ]
  },
  {
   "cell_type": "markdown",
   "id": "d3061d6a",
   "metadata": {},
   "source": [
    "Presidential Vote\n",
    "intent_pres_party: President preference party\n",
    "\n",
    "voted_pres_party: President vote in last election\n",
    "\n",
    "intent_pres_12: 2012 President preference (before voting)\n",
    "“In the race for President of the United States, who do you prefer?”\n",
    "\n",
    "intent_pres_16: 2016 President preference (before voting)\n",
    "“Which candidate did you prefer for President of the United States?”\n",
    "\n",
    "intent_pres_20: 2020 President preference (before voting)\n",
    "“Which candidate for President of the United States do you prefer?”\n",
    "\n",
    "voted_pres_08: 2008 President vote choice (after voting)\n",
    "“2008: For which candidate for President of the United States did you vote? \n",
    "\n",
    "voted_pres_12: 2012 President vote choice (after voting)\n",
    "“2012: For whom did you vote for President of the United States? 2016: In 2012, who did you vote\n",
    "for in the election for President? \n",
    "\n",
    "voted_pres_16: 2016 President vote choice (after voting)\n",
    "“2017: In the election for U.S. President, who did you vote for? 2016: For whom\n",
    "did you vote for President of the United States?\n",
    "\n",
    "voted_pres_20: 2020 President vote choice (after voting)\n",
    " 2020: For whom did you vote for President of the United States?\n"
   ]
  },
  {
   "cell_type": "code",
   "execution_count": 5,
   "id": "a9d0c81f",
   "metadata": {},
   "outputs": [
    {
     "data": {
      "text/html": [
       "<div>\n",
       "<style scoped>\n",
       "    .dataframe tbody tr th:only-of-type {\n",
       "        vertical-align: middle;\n",
       "    }\n",
       "\n",
       "    .dataframe tbody tr th {\n",
       "        vertical-align: top;\n",
       "    }\n",
       "\n",
       "    .dataframe thead th {\n",
       "        text-align: right;\n",
       "    }\n",
       "</style>\n",
       "<table border=\"1\" class=\"dataframe\">\n",
       "  <thead>\n",
       "    <tr style=\"text-align: right;\">\n",
       "      <th></th>\n",
       "      <th>year</th>\n",
       "      <th>weight</th>\n",
       "      <th>weight_cumulative</th>\n",
       "      <th>dist</th>\n",
       "      <th>dist_up</th>\n",
       "      <th>dist_post</th>\n",
       "      <th>dist_up_post</th>\n",
       "      <th>weight_post</th>\n",
       "      <th>rvweight</th>\n",
       "      <th>rvweight_post</th>\n",
       "      <th>birthyr</th>\n",
       "      <th>age</th>\n",
       "    </tr>\n",
       "  </thead>\n",
       "  <tbody>\n",
       "    <tr>\n",
       "      <th>count</th>\n",
       "      <td>531755.000000</td>\n",
       "      <td>531755.000000</td>\n",
       "      <td>531755.000000</td>\n",
       "      <td>531755.000000</td>\n",
       "      <td>531755.000000</td>\n",
       "      <td>352625.000000</td>\n",
       "      <td>352625.000000</td>\n",
       "      <td>201136.000000</td>\n",
       "      <td>40017.000000</td>\n",
       "      <td>36949.000000</td>\n",
       "      <td>531755.000000</td>\n",
       "      <td>531755.000000</td>\n",
       "    </tr>\n",
       "    <tr>\n",
       "      <th>mean</th>\n",
       "      <td>2013.735534</td>\n",
       "      <td>0.999999</td>\n",
       "      <td>0.925234</td>\n",
       "      <td>9.370851</td>\n",
       "      <td>9.374443</td>\n",
       "      <td>9.270069</td>\n",
       "      <td>9.273208</td>\n",
       "      <td>1.000000</td>\n",
       "      <td>1.000000</td>\n",
       "      <td>1.000000</td>\n",
       "      <td>1964.278813</td>\n",
       "      <td>49.456722</td>\n",
       "    </tr>\n",
       "    <tr>\n",
       "      <th>std</th>\n",
       "      <td>4.260923</td>\n",
       "      <td>1.044919</td>\n",
       "      <td>1.255373</td>\n",
       "      <td>9.735636</td>\n",
       "      <td>9.740023</td>\n",
       "      <td>9.667857</td>\n",
       "      <td>9.667396</td>\n",
       "      <td>1.222933</td>\n",
       "      <td>0.819795</td>\n",
       "      <td>0.920531</td>\n",
       "      <td>17.330081</td>\n",
       "      <td>16.615643</td>\n",
       "    </tr>\n",
       "    <tr>\n",
       "      <th>min</th>\n",
       "      <td>2006.000000</td>\n",
       "      <td>0.000000</td>\n",
       "      <td>0.000000</td>\n",
       "      <td>1.000000</td>\n",
       "      <td>1.000000</td>\n",
       "      <td>1.000000</td>\n",
       "      <td>1.000000</td>\n",
       "      <td>0.000010</td>\n",
       "      <td>0.000100</td>\n",
       "      <td>0.000100</td>\n",
       "      <td>1900.000000</td>\n",
       "      <td>18.000000</td>\n",
       "    </tr>\n",
       "    <tr>\n",
       "      <th>25%</th>\n",
       "      <td>2010.000000</td>\n",
       "      <td>0.447918</td>\n",
       "      <td>0.303355</td>\n",
       "      <td>3.000000</td>\n",
       "      <td>3.000000</td>\n",
       "      <td>3.000000</td>\n",
       "      <td>3.000000</td>\n",
       "      <td>0.460138</td>\n",
       "      <td>0.552093</td>\n",
       "      <td>0.526200</td>\n",
       "      <td>1951.000000</td>\n",
       "      <td>35.000000</td>\n",
       "    </tr>\n",
       "    <tr>\n",
       "      <th>50%</th>\n",
       "      <td>2014.000000</td>\n",
       "      <td>0.733179</td>\n",
       "      <td>0.551475</td>\n",
       "      <td>6.000000</td>\n",
       "      <td>6.000000</td>\n",
       "      <td>6.000000</td>\n",
       "      <td>6.000000</td>\n",
       "      <td>0.701619</td>\n",
       "      <td>0.817733</td>\n",
       "      <td>0.789011</td>\n",
       "      <td>1962.000000</td>\n",
       "      <td>51.000000</td>\n",
       "    </tr>\n",
       "    <tr>\n",
       "      <th>75%</th>\n",
       "      <td>2018.000000</td>\n",
       "      <td>1.161106</td>\n",
       "      <td>1.058625</td>\n",
       "      <td>12.000000</td>\n",
       "      <td>12.000000</td>\n",
       "      <td>12.000000</td>\n",
       "      <td>12.000000</td>\n",
       "      <td>1.077100</td>\n",
       "      <td>1.204087</td>\n",
       "      <td>1.170535</td>\n",
       "      <td>1979.000000</td>\n",
       "      <td>62.000000</td>\n",
       "    </tr>\n",
       "    <tr>\n",
       "      <th>max</th>\n",
       "      <td>2020.000000</td>\n",
       "      <td>15.000647</td>\n",
       "      <td>24.029732</td>\n",
       "      <td>53.000000</td>\n",
       "      <td>53.000000</td>\n",
       "      <td>53.000000</td>\n",
       "      <td>53.000000</td>\n",
       "      <td>15.002276</td>\n",
       "      <td>15.000026</td>\n",
       "      <td>15.000086</td>\n",
       "      <td>2002.000000</td>\n",
       "      <td>109.000000</td>\n",
       "    </tr>\n",
       "  </tbody>\n",
       "</table>\n",
       "</div>"
      ],
      "text/plain": [
       "                year         weight  weight_cumulative           dist  \\\n",
       "count  531755.000000  531755.000000      531755.000000  531755.000000   \n",
       "mean     2013.735534       0.999999           0.925234       9.370851   \n",
       "std         4.260923       1.044919           1.255373       9.735636   \n",
       "min      2006.000000       0.000000           0.000000       1.000000   \n",
       "25%      2010.000000       0.447918           0.303355       3.000000   \n",
       "50%      2014.000000       0.733179           0.551475       6.000000   \n",
       "75%      2018.000000       1.161106           1.058625      12.000000   \n",
       "max      2020.000000      15.000647          24.029732      53.000000   \n",
       "\n",
       "             dist_up      dist_post   dist_up_post    weight_post  \\\n",
       "count  531755.000000  352625.000000  352625.000000  201136.000000   \n",
       "mean        9.374443       9.270069       9.273208       1.000000   \n",
       "std         9.740023       9.667857       9.667396       1.222933   \n",
       "min         1.000000       1.000000       1.000000       0.000010   \n",
       "25%         3.000000       3.000000       3.000000       0.460138   \n",
       "50%         6.000000       6.000000       6.000000       0.701619   \n",
       "75%        12.000000      12.000000      12.000000       1.077100   \n",
       "max        53.000000      53.000000      53.000000      15.002276   \n",
       "\n",
       "           rvweight  rvweight_post        birthyr            age  \n",
       "count  40017.000000   36949.000000  531755.000000  531755.000000  \n",
       "mean       1.000000       1.000000    1964.278813      49.456722  \n",
       "std        0.819795       0.920531      17.330081      16.615643  \n",
       "min        0.000100       0.000100    1900.000000      18.000000  \n",
       "25%        0.552093       0.526200    1951.000000      35.000000  \n",
       "50%        0.817733       0.789011    1962.000000      51.000000  \n",
       "75%        1.204087       1.170535    1979.000000      62.000000  \n",
       "max       15.000026      15.000086    2002.000000     109.000000  "
      ]
     },
     "execution_count": 5,
     "metadata": {},
     "output_type": "execute_result"
    }
   ],
   "source": [
    "df.describe()"
   ]
  },
  {
   "cell_type": "markdown",
   "id": "f5433664",
   "metadata": {},
   "source": [
    "Displaying the summary statistics of the features"
   ]
  },
  {
   "cell_type": "code",
   "execution_count": 6,
   "id": "8a50b46c",
   "metadata": {},
   "outputs": [],
   "source": [
    "mydata=df[['year','age','dist','voted_pres_16']]"
   ]
  },
  {
   "cell_type": "code",
   "execution_count": 7,
   "id": "fa5c5101",
   "metadata": {},
   "outputs": [],
   "source": [
    "mydata_new=mydata[mydata['year'] == 2016]"
   ]
  },
  {
   "cell_type": "code",
   "execution_count": 8,
   "id": "6247ad73",
   "metadata": {},
   "outputs": [],
   "source": [
    "mydata_final =mydata_new[mydata_new['dist'] < 6 ]"
   ]
  },
  {
   "cell_type": "code",
   "execution_count": 9,
   "id": "41ff7f3f",
   "metadata": {},
   "outputs": [
    {
     "data": {
      "text/html": [
       "<div>\n",
       "<style scoped>\n",
       "    .dataframe tbody tr th:only-of-type {\n",
       "        vertical-align: middle;\n",
       "    }\n",
       "\n",
       "    .dataframe tbody tr th {\n",
       "        vertical-align: top;\n",
       "    }\n",
       "\n",
       "    .dataframe thead th {\n",
       "        text-align: right;\n",
       "    }\n",
       "</style>\n",
       "<table border=\"1\" class=\"dataframe\">\n",
       "  <thead>\n",
       "    <tr style=\"text-align: right;\">\n",
       "      <th></th>\n",
       "      <th>year</th>\n",
       "      <th>age</th>\n",
       "      <th>dist</th>\n",
       "      <th>voted_pres_16</th>\n",
       "    </tr>\n",
       "  </thead>\n",
       "  <tbody>\n",
       "    <tr>\n",
       "      <th>309955</th>\n",
       "      <td>2016</td>\n",
       "      <td>47</td>\n",
       "      <td>2</td>\n",
       "      <td>Donald Trump</td>\n",
       "    </tr>\n",
       "    <tr>\n",
       "      <th>309956</th>\n",
       "      <td>2016</td>\n",
       "      <td>22</td>\n",
       "      <td>2</td>\n",
       "      <td>Donald Trump</td>\n",
       "    </tr>\n",
       "    <tr>\n",
       "      <th>309959</th>\n",
       "      <td>2016</td>\n",
       "      <td>34</td>\n",
       "      <td>2</td>\n",
       "      <td>Hilary Clinton</td>\n",
       "    </tr>\n",
       "    <tr>\n",
       "      <th>309960</th>\n",
       "      <td>2016</td>\n",
       "      <td>53</td>\n",
       "      <td>5</td>\n",
       "      <td>NaN</td>\n",
       "    </tr>\n",
       "    <tr>\n",
       "      <th>309961</th>\n",
       "      <td>2016</td>\n",
       "      <td>54</td>\n",
       "      <td>4</td>\n",
       "      <td>Donald Trump</td>\n",
       "    </tr>\n",
       "    <tr>\n",
       "      <th>...</th>\n",
       "      <td>...</td>\n",
       "      <td>...</td>\n",
       "      <td>...</td>\n",
       "      <td>...</td>\n",
       "    </tr>\n",
       "    <tr>\n",
       "      <th>374549</th>\n",
       "      <td>2016</td>\n",
       "      <td>49</td>\n",
       "      <td>3</td>\n",
       "      <td>NaN</td>\n",
       "    </tr>\n",
       "    <tr>\n",
       "      <th>374551</th>\n",
       "      <td>2016</td>\n",
       "      <td>30</td>\n",
       "      <td>5</td>\n",
       "      <td>NaN</td>\n",
       "    </tr>\n",
       "    <tr>\n",
       "      <th>374552</th>\n",
       "      <td>2016</td>\n",
       "      <td>38</td>\n",
       "      <td>1</td>\n",
       "      <td>NaN</td>\n",
       "    </tr>\n",
       "    <tr>\n",
       "      <th>374553</th>\n",
       "      <td>2016</td>\n",
       "      <td>29</td>\n",
       "      <td>2</td>\n",
       "      <td>NaN</td>\n",
       "    </tr>\n",
       "    <tr>\n",
       "      <th>374554</th>\n",
       "      <td>2016</td>\n",
       "      <td>42</td>\n",
       "      <td>2</td>\n",
       "      <td>NaN</td>\n",
       "    </tr>\n",
       "  </tbody>\n",
       "</table>\n",
       "<p>29204 rows × 4 columns</p>\n",
       "</div>"
      ],
      "text/plain": [
       "        year  age  dist   voted_pres_16\n",
       "309955  2016   47     2    Donald Trump\n",
       "309956  2016   22     2    Donald Trump\n",
       "309959  2016   34     2  Hilary Clinton\n",
       "309960  2016   53     5             NaN\n",
       "309961  2016   54     4    Donald Trump\n",
       "...      ...  ...   ...             ...\n",
       "374549  2016   49     3             NaN\n",
       "374551  2016   30     5             NaN\n",
       "374552  2016   38     1             NaN\n",
       "374553  2016   29     2             NaN\n",
       "374554  2016   42     2             NaN\n",
       "\n",
       "[29204 rows x 4 columns]"
      ]
     },
     "execution_count": 9,
     "metadata": {},
     "output_type": "execute_result"
    }
   ],
   "source": [
    "mydata_final"
   ]
  },
  {
   "cell_type": "code",
   "execution_count": 10,
   "id": "a3b48b14",
   "metadata": {},
   "outputs": [],
   "source": [
    "mydata_final = mydata_final.head(5000)"
   ]
  },
  {
   "cell_type": "code",
   "execution_count": 11,
   "id": "6cc1da42",
   "metadata": {},
   "outputs": [
    {
     "data": {
      "text/html": [
       "<div>\n",
       "<style scoped>\n",
       "    .dataframe tbody tr th:only-of-type {\n",
       "        vertical-align: middle;\n",
       "    }\n",
       "\n",
       "    .dataframe tbody tr th {\n",
       "        vertical-align: top;\n",
       "    }\n",
       "\n",
       "    .dataframe thead th {\n",
       "        text-align: right;\n",
       "    }\n",
       "</style>\n",
       "<table border=\"1\" class=\"dataframe\">\n",
       "  <thead>\n",
       "    <tr style=\"text-align: right;\">\n",
       "      <th></th>\n",
       "      <th>year</th>\n",
       "      <th>age</th>\n",
       "      <th>dist</th>\n",
       "      <th>voted_pres_16</th>\n",
       "    </tr>\n",
       "  </thead>\n",
       "  <tbody>\n",
       "    <tr>\n",
       "      <th>309955</th>\n",
       "      <td>2016</td>\n",
       "      <td>47</td>\n",
       "      <td>2</td>\n",
       "      <td>Donald Trump</td>\n",
       "    </tr>\n",
       "    <tr>\n",
       "      <th>309956</th>\n",
       "      <td>2016</td>\n",
       "      <td>22</td>\n",
       "      <td>2</td>\n",
       "      <td>Donald Trump</td>\n",
       "    </tr>\n",
       "    <tr>\n",
       "      <th>309959</th>\n",
       "      <td>2016</td>\n",
       "      <td>34</td>\n",
       "      <td>2</td>\n",
       "      <td>Hilary Clinton</td>\n",
       "    </tr>\n",
       "    <tr>\n",
       "      <th>309960</th>\n",
       "      <td>2016</td>\n",
       "      <td>53</td>\n",
       "      <td>5</td>\n",
       "      <td>NaN</td>\n",
       "    </tr>\n",
       "    <tr>\n",
       "      <th>309961</th>\n",
       "      <td>2016</td>\n",
       "      <td>54</td>\n",
       "      <td>4</td>\n",
       "      <td>Donald Trump</td>\n",
       "    </tr>\n",
       "    <tr>\n",
       "      <th>...</th>\n",
       "      <td>...</td>\n",
       "      <td>...</td>\n",
       "      <td>...</td>\n",
       "      <td>...</td>\n",
       "    </tr>\n",
       "    <tr>\n",
       "      <th>320222</th>\n",
       "      <td>2016</td>\n",
       "      <td>56</td>\n",
       "      <td>4</td>\n",
       "      <td>Donald Trump</td>\n",
       "    </tr>\n",
       "    <tr>\n",
       "      <th>320224</th>\n",
       "      <td>2016</td>\n",
       "      <td>60</td>\n",
       "      <td>1</td>\n",
       "      <td>Donald Trump</td>\n",
       "    </tr>\n",
       "    <tr>\n",
       "      <th>320226</th>\n",
       "      <td>2016</td>\n",
       "      <td>70</td>\n",
       "      <td>1</td>\n",
       "      <td>Hilary Clinton</td>\n",
       "    </tr>\n",
       "    <tr>\n",
       "      <th>320227</th>\n",
       "      <td>2016</td>\n",
       "      <td>69</td>\n",
       "      <td>4</td>\n",
       "      <td>Donald Trump</td>\n",
       "    </tr>\n",
       "    <tr>\n",
       "      <th>320230</th>\n",
       "      <td>2016</td>\n",
       "      <td>24</td>\n",
       "      <td>2</td>\n",
       "      <td>Hilary Clinton</td>\n",
       "    </tr>\n",
       "  </tbody>\n",
       "</table>\n",
       "<p>5000 rows × 4 columns</p>\n",
       "</div>"
      ],
      "text/plain": [
       "        year  age  dist   voted_pres_16\n",
       "309955  2016   47     2    Donald Trump\n",
       "309956  2016   22     2    Donald Trump\n",
       "309959  2016   34     2  Hilary Clinton\n",
       "309960  2016   53     5             NaN\n",
       "309961  2016   54     4    Donald Trump\n",
       "...      ...  ...   ...             ...\n",
       "320222  2016   56     4    Donald Trump\n",
       "320224  2016   60     1    Donald Trump\n",
       "320226  2016   70     1  Hilary Clinton\n",
       "320227  2016   69     4    Donald Trump\n",
       "320230  2016   24     2  Hilary Clinton\n",
       "\n",
       "[5000 rows x 4 columns]"
      ]
     },
     "execution_count": 11,
     "metadata": {},
     "output_type": "execute_result"
    }
   ],
   "source": [
    "mydata_final"
   ]
  },
  {
   "cell_type": "markdown",
   "id": "ed5636b2",
   "metadata": {},
   "source": [
    "Filtering my dataset - Viewing only 2016 data and first five districts. Also I have subset to have only first 5000 rows for legibility."
   ]
  },
  {
   "cell_type": "code",
   "execution_count": 12,
   "id": "de1b4297",
   "metadata": {},
   "outputs": [
    {
     "name": "stdout",
     "output_type": "stream",
     "text": [
      "57.2946\n"
     ]
    }
   ],
   "source": [
    "print(mydata_final['age'].mean())"
   ]
  },
  {
   "cell_type": "code",
   "execution_count": 13,
   "id": "2cc1ae69",
   "metadata": {},
   "outputs": [
    {
     "name": "stdout",
     "output_type": "stream",
     "text": [
      "59.0\n"
     ]
    }
   ],
   "source": [
    "print(mydata_final['age'].median())"
   ]
  },
  {
   "cell_type": "code",
   "execution_count": 14,
   "id": "c47a10af",
   "metadata": {},
   "outputs": [
    {
     "name": "stdout",
     "output_type": "stream",
     "text": [
      "14.408057789509751\n"
     ]
    }
   ],
   "source": [
    "print(mydata_final['age'].std())"
   ]
  },
  {
   "cell_type": "markdown",
   "id": "d33e0a74",
   "metadata": {},
   "source": [
    "Calculating the mean, median and standard deviation using the age column"
   ]
  },
  {
   "cell_type": "code",
   "execution_count": 15,
   "id": "7941cf74",
   "metadata": {},
   "outputs": [
    {
     "data": {
      "text/html": [
       "<div>\n",
       "<style scoped>\n",
       "    .dataframe tbody tr th:only-of-type {\n",
       "        vertical-align: middle;\n",
       "    }\n",
       "\n",
       "    .dataframe tbody tr th {\n",
       "        vertical-align: top;\n",
       "    }\n",
       "\n",
       "    .dataframe thead th {\n",
       "        text-align: right;\n",
       "    }\n",
       "</style>\n",
       "<table border=\"1\" class=\"dataframe\">\n",
       "  <thead>\n",
       "    <tr style=\"text-align: right;\">\n",
       "      <th></th>\n",
       "      <th>voted_pres_16</th>\n",
       "    </tr>\n",
       "  </thead>\n",
       "  <tbody>\n",
       "    <tr>\n",
       "      <th>313968</th>\n",
       "      <td>Hilary Clinton</td>\n",
       "    </tr>\n",
       "    <tr>\n",
       "      <th>317323</th>\n",
       "      <td>Donald Trump</td>\n",
       "    </tr>\n",
       "    <tr>\n",
       "      <th>316114</th>\n",
       "      <td>NaN</td>\n",
       "    </tr>\n",
       "    <tr>\n",
       "      <th>315402</th>\n",
       "      <td>Donald Trump</td>\n",
       "    </tr>\n",
       "    <tr>\n",
       "      <th>315674</th>\n",
       "      <td>NaN</td>\n",
       "    </tr>\n",
       "  </tbody>\n",
       "</table>\n",
       "</div>"
      ],
      "text/plain": [
       "         voted_pres_16\n",
       "313968  Hilary Clinton\n",
       "317323    Donald Trump\n",
       "316114             NaN\n",
       "315402    Donald Trump\n",
       "315674             NaN"
      ]
     },
     "execution_count": 15,
     "metadata": {},
     "output_type": "execute_result"
    }
   ],
   "source": [
    "mydata_final[['voted_pres_16']].sample(5)"
   ]
  },
  {
   "cell_type": "code",
   "execution_count": 16,
   "id": "c867168e",
   "metadata": {},
   "outputs": [
    {
     "data": {
      "text/plain": [
       "(5000, 4)"
      ]
     },
     "execution_count": 16,
     "metadata": {},
     "output_type": "execute_result"
    }
   ],
   "source": [
    "mydata_final.shape"
   ]
  },
  {
   "cell_type": "code",
   "execution_count": 17,
   "id": "e0c09fd3",
   "metadata": {},
   "outputs": [
    {
     "data": {
      "text/html": [
       "<div>\n",
       "<style scoped>\n",
       "    .dataframe tbody tr th:only-of-type {\n",
       "        vertical-align: middle;\n",
       "    }\n",
       "\n",
       "    .dataframe tbody tr th {\n",
       "        vertical-align: top;\n",
       "    }\n",
       "\n",
       "    .dataframe thead th {\n",
       "        text-align: right;\n",
       "    }\n",
       "</style>\n",
       "<table border=\"1\" class=\"dataframe\">\n",
       "  <thead>\n",
       "    <tr style=\"text-align: right;\">\n",
       "      <th></th>\n",
       "      <th>year</th>\n",
       "      <th>age</th>\n",
       "      <th>dist</th>\n",
       "    </tr>\n",
       "  </thead>\n",
       "  <tbody>\n",
       "    <tr>\n",
       "      <th>count</th>\n",
       "      <td>5000.0</td>\n",
       "      <td>5000.000000</td>\n",
       "      <td>5000.000000</td>\n",
       "    </tr>\n",
       "    <tr>\n",
       "      <th>mean</th>\n",
       "      <td>2016.0</td>\n",
       "      <td>57.294600</td>\n",
       "      <td>2.739800</td>\n",
       "    </tr>\n",
       "    <tr>\n",
       "      <th>std</th>\n",
       "      <td>0.0</td>\n",
       "      <td>14.408058</td>\n",
       "      <td>1.413682</td>\n",
       "    </tr>\n",
       "    <tr>\n",
       "      <th>min</th>\n",
       "      <td>2016.0</td>\n",
       "      <td>18.000000</td>\n",
       "      <td>1.000000</td>\n",
       "    </tr>\n",
       "    <tr>\n",
       "      <th>25%</th>\n",
       "      <td>2016.0</td>\n",
       "      <td>49.000000</td>\n",
       "      <td>1.000000</td>\n",
       "    </tr>\n",
       "    <tr>\n",
       "      <th>50%</th>\n",
       "      <td>2016.0</td>\n",
       "      <td>59.000000</td>\n",
       "      <td>3.000000</td>\n",
       "    </tr>\n",
       "    <tr>\n",
       "      <th>75%</th>\n",
       "      <td>2016.0</td>\n",
       "      <td>67.000000</td>\n",
       "      <td>4.000000</td>\n",
       "    </tr>\n",
       "    <tr>\n",
       "      <th>max</th>\n",
       "      <td>2016.0</td>\n",
       "      <td>95.000000</td>\n",
       "      <td>5.000000</td>\n",
       "    </tr>\n",
       "  </tbody>\n",
       "</table>\n",
       "</div>"
      ],
      "text/plain": [
       "         year          age         dist\n",
       "count  5000.0  5000.000000  5000.000000\n",
       "mean   2016.0    57.294600     2.739800\n",
       "std       0.0    14.408058     1.413682\n",
       "min    2016.0    18.000000     1.000000\n",
       "25%    2016.0    49.000000     1.000000\n",
       "50%    2016.0    59.000000     3.000000\n",
       "75%    2016.0    67.000000     4.000000\n",
       "max    2016.0    95.000000     5.000000"
      ]
     },
     "execution_count": 17,
     "metadata": {},
     "output_type": "execute_result"
    }
   ],
   "source": [
    "mydata_final.describe()"
   ]
  },
  {
   "cell_type": "code",
   "execution_count": 18,
   "id": "e0a69599",
   "metadata": {},
   "outputs": [
    {
     "data": {
      "text/plain": [
       "year                     2016\n",
       "age                        22\n",
       "dist                        2\n",
       "voted_pres_16    Donald Trump\n",
       "Name: 309956, dtype: object"
      ]
     },
     "execution_count": 18,
     "metadata": {},
     "output_type": "execute_result"
    }
   ],
   "source": [
    "mydata_final.loc[309956]"
   ]
  },
  {
   "cell_type": "code",
   "execution_count": 19,
   "id": "f4bf6240",
   "metadata": {},
   "outputs": [
    {
     "data": {
      "text/plain": [
       "year                       2016\n",
       "age                          34\n",
       "dist                          2\n",
       "voted_pres_16    Hilary Clinton\n",
       "Name: 309959, dtype: object"
      ]
     },
     "execution_count": 19,
     "metadata": {},
     "output_type": "execute_result"
    }
   ],
   "source": [
    "mydata_final.loc[309959]"
   ]
  },
  {
   "cell_type": "code",
   "execution_count": 20,
   "id": "9550327d",
   "metadata": {},
   "outputs": [
    {
     "data": {
      "text/plain": [
       "<AxesSubplot:>"
      ]
     },
     "execution_count": 20,
     "metadata": {},
     "output_type": "execute_result"
    },
    {
     "data": {
      "image/png": "[encoded data removed]",
      "text/plain": [
       "<Figure size 432x288 with 1 Axes>"
      ]
     },
     "metadata": {
      "needs_background": "light"
     },
     "output_type": "display_data"
    }
   ],
   "source": [
    "mydata_final['voted_pres_16'].value_counts().sort_values().plot(kind='barh')"
   ]
  },
  {
   "cell_type": "markdown",
   "id": "1509711d",
   "metadata": {},
   "source": [
    "Visualizing my variable of interest before regression analysis"
   ]
  },
  {
   "cell_type": "markdown",
   "id": "916e30c1",
   "metadata": {},
   "source": [
    "Logistic regression is a classification algorithm. It is used to predict a binary outcome based on a set of independent variables.\n",
    "\n",
    "Ok, so what does this mean in general? A binary outcome is one where there are only two possible scenarios—either the event happens (1) or it does not happen (0). Independent variables are those variables or factors which may influence the outcome (or dependent variable).\n",
    "\n",
    "Logistic regression is the correct type of analysis to use when you’re working with binary data. You know you’re dealing with binary data when the output or dependent variable is dichotomous or categorical in nature; in other words, if it fits into one of two categories (such as “yes” or “no”, “pass” or “fail”, and so on).\n",
    "\n",
    "For my analysis, I'm working on 2016 data myoutcome variable is the president who won the 2016 election - whether Hillary clinton or not. My analysis to count all votes and segregate them as Hillary vs everybody else. So I assumed 0 as all other possibilities and 1 as the outcome for Hillary Clinton."
   ]
  },
  {
   "cell_type": "code",
   "execution_count": 21,
   "id": "ddee2936",
   "metadata": {},
   "outputs": [],
   "source": [
    "from sklearn.preprocessing import LabelEncoder"
   ]
  },
  {
   "cell_type": "code",
   "execution_count": 22,
   "id": "2114260c",
   "metadata": {},
   "outputs": [
    {
     "name": "stderr",
     "output_type": "stream",
     "text": [
      "C:\\Users\\LENOVO\\AppData\\Local\\Temp/ipykernel_2960/2958351148.py:2: SettingWithCopyWarning: \n",
      "A value is trying to be set on a copy of a slice from a DataFrame.\n",
      "Try using .loc[row_indexer,col_indexer] = value instead\n",
      "\n",
      "See the caveats in the documentation: https://pandas.pydata.org/pandas-docs/stable/user_guide/indexing.html#returning-a-view-versus-a-copy\n",
      "  mydata_final['voted_pres_16'] = labelEncoder.fit_transform(mydata_final['voted_pres_16'].astype(str))\n"
     ]
    }
   ],
   "source": [
    "labelEncoder = LabelEncoder()\n",
    "mydata_final['voted_pres_16'] = labelEncoder.fit_transform(mydata_final['voted_pres_16'].astype(str))"
   ]
  },
  {
   "cell_type": "code",
   "execution_count": 23,
   "id": "e50c909b",
   "metadata": {},
   "outputs": [
    {
     "data": {
      "text/plain": [
       "year             2016\n",
       "age                22\n",
       "dist                2\n",
       "voted_pres_16       1\n",
       "Name: 309956, dtype: int32"
      ]
     },
     "execution_count": 23,
     "metadata": {},
     "output_type": "execute_result"
    }
   ],
   "source": [
    "mydata_final.loc[309956]"
   ]
  },
  {
   "cell_type": "code",
   "execution_count": 24,
   "id": "a5d109b4",
   "metadata": {},
   "outputs": [
    {
     "data": {
      "text/plain": [
       "year             2016\n",
       "age                34\n",
       "dist                2\n",
       "voted_pres_16       2\n",
       "Name: 309959, dtype: int32"
      ]
     },
     "execution_count": 24,
     "metadata": {},
     "output_type": "execute_result"
    }
   ],
   "source": [
    "mydata_final.loc[309959]"
   ]
  },
  {
   "cell_type": "code",
   "execution_count": 25,
   "id": "5c3eb844",
   "metadata": {},
   "outputs": [
    {
     "name": "stderr",
     "output_type": "stream",
     "text": [
      "C:\\Users\\LENOVO\\AppData\\Local\\Temp/ipykernel_2960/2538898829.py:1: SettingWithCopyWarning: \n",
      "A value is trying to be set on a copy of a slice from a DataFrame.\n",
      "Try using .loc[row_indexer,col_indexer] = value instead\n",
      "\n",
      "See the caveats in the documentation: https://pandas.pydata.org/pandas-docs/stable/user_guide/indexing.html#returning-a-view-versus-a-copy\n",
      "  mydata_final['voted_pres_16'] = mydata_final['voted_pres_16'].replace(\n"
     ]
    }
   ],
   "source": [
    "mydata_final['voted_pres_16'] = mydata_final['voted_pres_16'].replace(\n",
    "to_replace=[0,1,3,4,5],\n",
    "value=0)"
   ]
  },
  {
   "cell_type": "code",
   "execution_count": 26,
   "id": "41d71d30",
   "metadata": {},
   "outputs": [
    {
     "name": "stderr",
     "output_type": "stream",
     "text": [
      "C:\\Users\\LENOVO\\AppData\\Local\\Temp/ipykernel_2960/3174617103.py:1: SettingWithCopyWarning: \n",
      "A value is trying to be set on a copy of a slice from a DataFrame.\n",
      "Try using .loc[row_indexer,col_indexer] = value instead\n",
      "\n",
      "See the caveats in the documentation: https://pandas.pydata.org/pandas-docs/stable/user_guide/indexing.html#returning-a-view-versus-a-copy\n",
      "  mydata_final['voted_pres_16'] = mydata_final['voted_pres_16'].replace(\n"
     ]
    }
   ],
   "source": [
    "mydata_final['voted_pres_16'] = mydata_final['voted_pres_16'].replace(\n",
    "to_replace=[2],\n",
    "value=1)"
   ]
  },
  {
   "cell_type": "code",
   "execution_count": 27,
   "id": "14e24e95",
   "metadata": {},
   "outputs": [
    {
     "name": "stdout",
     "output_type": "stream",
     "text": [
      "0    2932\n",
      "1    2068\n",
      "Name: voted_pres_16, dtype: int64\n"
     ]
    }
   ],
   "source": [
    "print(mydata_final['voted_pres_16'].value_counts())"
   ]
  },
  {
   "cell_type": "code",
   "execution_count": 28,
   "id": "cd268259",
   "metadata": {},
   "outputs": [
    {
     "data": {
      "text/plain": [
       "<AxesSubplot:title={'center':'age'}, xlabel='voted_pres_16'>"
      ]
     },
     "execution_count": 28,
     "metadata": {},
     "output_type": "execute_result"
    },
    {
     "data": {
      "image/png": "[encoded data removed]",
      "text/plain": [
       "<Figure size 432x288 with 1 Axes>"
      ]
     },
     "metadata": {
      "needs_background": "light"
     },
     "output_type": "display_data"
    }
   ],
   "source": [
    "mydata_final.boxplot(by ='voted_pres_16', column =['age'])"
   ]
  },
  {
   "cell_type": "markdown",
   "id": "a51bdcdc",
   "metadata": {},
   "source": [
    "Logistic regression - Converting my variable of interest to binary"
   ]
  },
  {
   "cell_type": "code",
   "execution_count": 29,
   "id": "ddd4f267",
   "metadata": {},
   "outputs": [],
   "source": [
    "from sklearn.model_selection import train_test_split"
   ]
  },
  {
   "cell_type": "code",
   "execution_count": 30,
   "id": "ce0d5c60",
   "metadata": {},
   "outputs": [],
   "source": [
    "features = mydata_final.drop('voted_pres_16',axis=1)\n",
    "target = mydata_final['voted_pres_16']"
   ]
  },
  {
   "cell_type": "code",
   "execution_count": 31,
   "id": "78dd34c2",
   "metadata": {},
   "outputs": [],
   "source": [
    "x_train, x_test, y_train, y_test = train_test_split(features, target, test_size=0.2) "
   ]
  },
  {
   "cell_type": "code",
   "execution_count": 32,
   "id": "2ca54abe",
   "metadata": {},
   "outputs": [
    {
     "name": "stdout",
     "output_type": "stream",
     "text": [
      "(4000, 3)\n",
      "(4000,)\n"
     ]
    }
   ],
   "source": [
    "print(x_train.shape)\n",
    "print(y_train.shape)"
   ]
  },
  {
   "cell_type": "code",
   "execution_count": 33,
   "id": "647e7409",
   "metadata": {},
   "outputs": [
    {
     "name": "stdout",
     "output_type": "stream",
     "text": [
      "(1000, 3)\n",
      "(1000,)\n"
     ]
    }
   ],
   "source": [
    "print(x_test.shape)\n",
    "print(y_test.shape)"
   ]
  },
  {
   "cell_type": "code",
   "execution_count": 34,
   "id": "a2237a05",
   "metadata": {},
   "outputs": [
    {
     "data": {
      "text/html": [
       "<div>\n",
       "<style scoped>\n",
       "    .dataframe tbody tr th:only-of-type {\n",
       "        vertical-align: middle;\n",
       "    }\n",
       "\n",
       "    .dataframe tbody tr th {\n",
       "        vertical-align: top;\n",
       "    }\n",
       "\n",
       "    .dataframe thead th {\n",
       "        text-align: right;\n",
       "    }\n",
       "</style>\n",
       "<table border=\"1\" class=\"dataframe\">\n",
       "  <thead>\n",
       "    <tr style=\"text-align: right;\">\n",
       "      <th></th>\n",
       "      <th>year</th>\n",
       "      <th>age</th>\n",
       "      <th>dist</th>\n",
       "    </tr>\n",
       "  </thead>\n",
       "  <tbody>\n",
       "    <tr>\n",
       "      <th>315681</th>\n",
       "      <td>2016</td>\n",
       "      <td>57</td>\n",
       "      <td>4</td>\n",
       "    </tr>\n",
       "    <tr>\n",
       "      <th>310968</th>\n",
       "      <td>2016</td>\n",
       "      <td>43</td>\n",
       "      <td>3</td>\n",
       "    </tr>\n",
       "    <tr>\n",
       "      <th>314513</th>\n",
       "      <td>2016</td>\n",
       "      <td>54</td>\n",
       "      <td>3</td>\n",
       "    </tr>\n",
       "    <tr>\n",
       "      <th>312033</th>\n",
       "      <td>2016</td>\n",
       "      <td>44</td>\n",
       "      <td>3</td>\n",
       "    </tr>\n",
       "    <tr>\n",
       "      <th>317829</th>\n",
       "      <td>2016</td>\n",
       "      <td>75</td>\n",
       "      <td>3</td>\n",
       "    </tr>\n",
       "    <tr>\n",
       "      <th>...</th>\n",
       "      <td>...</td>\n",
       "      <td>...</td>\n",
       "      <td>...</td>\n",
       "    </tr>\n",
       "    <tr>\n",
       "      <th>313154</th>\n",
       "      <td>2016</td>\n",
       "      <td>53</td>\n",
       "      <td>5</td>\n",
       "    </tr>\n",
       "    <tr>\n",
       "      <th>318630</th>\n",
       "      <td>2016</td>\n",
       "      <td>66</td>\n",
       "      <td>1</td>\n",
       "    </tr>\n",
       "    <tr>\n",
       "      <th>311714</th>\n",
       "      <td>2016</td>\n",
       "      <td>57</td>\n",
       "      <td>2</td>\n",
       "    </tr>\n",
       "    <tr>\n",
       "      <th>319633</th>\n",
       "      <td>2016</td>\n",
       "      <td>64</td>\n",
       "      <td>5</td>\n",
       "    </tr>\n",
       "    <tr>\n",
       "      <th>317891</th>\n",
       "      <td>2016</td>\n",
       "      <td>59</td>\n",
       "      <td>2</td>\n",
       "    </tr>\n",
       "  </tbody>\n",
       "</table>\n",
       "<p>4000 rows × 3 columns</p>\n",
       "</div>"
      ],
      "text/plain": [
       "        year  age  dist\n",
       "315681  2016   57     4\n",
       "310968  2016   43     3\n",
       "314513  2016   54     3\n",
       "312033  2016   44     3\n",
       "317829  2016   75     3\n",
       "...      ...  ...   ...\n",
       "313154  2016   53     5\n",
       "318630  2016   66     1\n",
       "311714  2016   57     2\n",
       "319633  2016   64     5\n",
       "317891  2016   59     2\n",
       "\n",
       "[4000 rows x 3 columns]"
      ]
     },
     "execution_count": 34,
     "metadata": {},
     "output_type": "execute_result"
    }
   ],
   "source": [
    "x_train"
   ]
  },
  {
   "cell_type": "code",
   "execution_count": 35,
   "id": "e97cd808",
   "metadata": {},
   "outputs": [
    {
     "data": {
      "text/html": [
       "<div>\n",
       "<style scoped>\n",
       "    .dataframe tbody tr th:only-of-type {\n",
       "        vertical-align: middle;\n",
       "    }\n",
       "\n",
       "    .dataframe tbody tr th {\n",
       "        vertical-align: top;\n",
       "    }\n",
       "\n",
       "    .dataframe thead th {\n",
       "        text-align: right;\n",
       "    }\n",
       "</style>\n",
       "<table border=\"1\" class=\"dataframe\">\n",
       "  <thead>\n",
       "    <tr style=\"text-align: right;\">\n",
       "      <th></th>\n",
       "      <th>year</th>\n",
       "      <th>age</th>\n",
       "      <th>dist</th>\n",
       "    </tr>\n",
       "  </thead>\n",
       "  <tbody>\n",
       "    <tr>\n",
       "      <th>317525</th>\n",
       "      <td>2016</td>\n",
       "      <td>53</td>\n",
       "      <td>5</td>\n",
       "    </tr>\n",
       "    <tr>\n",
       "      <th>314694</th>\n",
       "      <td>2016</td>\n",
       "      <td>55</td>\n",
       "      <td>4</td>\n",
       "    </tr>\n",
       "    <tr>\n",
       "      <th>318646</th>\n",
       "      <td>2016</td>\n",
       "      <td>63</td>\n",
       "      <td>4</td>\n",
       "    </tr>\n",
       "    <tr>\n",
       "      <th>320081</th>\n",
       "      <td>2016</td>\n",
       "      <td>33</td>\n",
       "      <td>5</td>\n",
       "    </tr>\n",
       "    <tr>\n",
       "      <th>317512</th>\n",
       "      <td>2016</td>\n",
       "      <td>73</td>\n",
       "      <td>2</td>\n",
       "    </tr>\n",
       "    <tr>\n",
       "      <th>...</th>\n",
       "      <td>...</td>\n",
       "      <td>...</td>\n",
       "      <td>...</td>\n",
       "    </tr>\n",
       "    <tr>\n",
       "      <th>313398</th>\n",
       "      <td>2016</td>\n",
       "      <td>64</td>\n",
       "      <td>1</td>\n",
       "    </tr>\n",
       "    <tr>\n",
       "      <th>312238</th>\n",
       "      <td>2016</td>\n",
       "      <td>31</td>\n",
       "      <td>4</td>\n",
       "    </tr>\n",
       "    <tr>\n",
       "      <th>316761</th>\n",
       "      <td>2016</td>\n",
       "      <td>33</td>\n",
       "      <td>3</td>\n",
       "    </tr>\n",
       "    <tr>\n",
       "      <th>310868</th>\n",
       "      <td>2016</td>\n",
       "      <td>60</td>\n",
       "      <td>3</td>\n",
       "    </tr>\n",
       "    <tr>\n",
       "      <th>318621</th>\n",
       "      <td>2016</td>\n",
       "      <td>54</td>\n",
       "      <td>1</td>\n",
       "    </tr>\n",
       "  </tbody>\n",
       "</table>\n",
       "<p>1000 rows × 3 columns</p>\n",
       "</div>"
      ],
      "text/plain": [
       "        year  age  dist\n",
       "317525  2016   53     5\n",
       "314694  2016   55     4\n",
       "318646  2016   63     4\n",
       "320081  2016   33     5\n",
       "317512  2016   73     2\n",
       "...      ...  ...   ...\n",
       "313398  2016   64     1\n",
       "312238  2016   31     4\n",
       "316761  2016   33     3\n",
       "310868  2016   60     3\n",
       "318621  2016   54     1\n",
       "\n",
       "[1000 rows x 3 columns]"
      ]
     },
     "execution_count": 35,
     "metadata": {},
     "output_type": "execute_result"
    }
   ],
   "source": [
    "x_test"
   ]
  },
  {
   "cell_type": "code",
   "execution_count": 36,
   "id": "fb0243fe",
   "metadata": {},
   "outputs": [
    {
     "data": {
      "text/plain": [
       "315681    1\n",
       "310968    0\n",
       "314513    0\n",
       "312033    1\n",
       "317829    0\n",
       "         ..\n",
       "313154    0\n",
       "318630    1\n",
       "311714    1\n",
       "319633    1\n",
       "317891    0\n",
       "Name: voted_pres_16, Length: 4000, dtype: int64"
      ]
     },
     "execution_count": 36,
     "metadata": {},
     "output_type": "execute_result"
    }
   ],
   "source": [
    "y_train"
   ]
  },
  {
   "cell_type": "code",
   "execution_count": 37,
   "id": "fdd16725",
   "metadata": {},
   "outputs": [
    {
     "data": {
      "text/plain": [
       "317525    0\n",
       "314694    0\n",
       "318646    0\n",
       "320081    1\n",
       "317512    0\n",
       "         ..\n",
       "313398    0\n",
       "312238    0\n",
       "316761    1\n",
       "310868    1\n",
       "318621    1\n",
       "Name: voted_pres_16, Length: 1000, dtype: int64"
      ]
     },
     "execution_count": 37,
     "metadata": {},
     "output_type": "execute_result"
    }
   ],
   "source": [
    "y_test"
   ]
  },
  {
   "cell_type": "code",
   "execution_count": 38,
   "id": "833f6d1e",
   "metadata": {},
   "outputs": [],
   "source": [
    "from sklearn.linear_model import LogisticRegression\n",
    "from sklearn.metrics import confusion_matrix"
   ]
  },
  {
   "cell_type": "code",
   "execution_count": 39,
   "id": "a5fce3df",
   "metadata": {},
   "outputs": [],
   "source": [
    "logistic_model = LogisticRegression(penalty='l2', solver='liblinear')"
   ]
  },
  {
   "cell_type": "code",
   "execution_count": 40,
   "id": "ff4580c8",
   "metadata": {},
   "outputs": [
    {
     "data": {
      "text/plain": [
       "LogisticRegression(solver='liblinear')"
      ]
     },
     "execution_count": 40,
     "metadata": {},
     "output_type": "execute_result"
    }
   ],
   "source": [
    "logistic_model.fit(x_train, y_train)"
   ]
  },
  {
   "cell_type": "code",
   "execution_count": 41,
   "id": "55eb9cb7",
   "metadata": {},
   "outputs": [],
   "source": [
    "y_pred = logistic_model.predict(x_test)"
   ]
  },
  {
   "cell_type": "code",
   "execution_count": 42,
   "id": "8c3db7a1",
   "metadata": {},
   "outputs": [
    {
     "data": {
      "text/plain": [
       "array([[595,   0],\n",
       "       [405,   0]], dtype=int64)"
      ]
     },
     "execution_count": 42,
     "metadata": {},
     "output_type": "execute_result"
    }
   ],
   "source": [
    "confusion_matrix = confusion_matrix(y_test, y_pred)\n",
    "confusion_matrix"
   ]
  },
  {
   "cell_type": "code",
   "execution_count": 43,
   "id": "ed6d65c9",
   "metadata": {},
   "outputs": [
    {
     "name": "stdout",
     "output_type": "stream",
     "text": [
      "Training score :  0.58425\n"
     ]
    }
   ],
   "source": [
    "print(\"Training score : \", logistic_model.score(x_train, y_train))"
   ]
  },
  {
   "cell_type": "code",
   "execution_count": 44,
   "id": "3d7f3819",
   "metadata": {},
   "outputs": [],
   "source": [
    "from sklearn.metrics import accuracy_score, precision_score, recall_score"
   ]
  },
  {
   "cell_type": "code",
   "execution_count": 45,
   "id": "89d1b3c9",
   "metadata": {},
   "outputs": [
    {
     "name": "stderr",
     "output_type": "stream",
     "text": [
      "C:\\Users\\LENOVO\\anaconda3\\lib\\site-packages\\sklearn\\metrics\\_classification.py:1248: UndefinedMetricWarning: Precision is ill-defined and being set to 0.0 due to no predicted samples. Use `zero_division` parameter to control this behavior.\n",
      "  _warn_prf(average, modifier, msg_start, len(result))\n"
     ]
    }
   ],
   "source": [
    "acc = accuracy_score(y_test, y_pred)\n",
    "pre = precision_score(y_test, y_pred)\n",
    "recall = recall_score(y_test, y_pred)"
   ]
  },
  {
   "cell_type": "code",
   "execution_count": 46,
   "id": "d565ebdc",
   "metadata": {},
   "outputs": [
    {
     "name": "stdout",
     "output_type": "stream",
     "text": [
      "Accuracy :  0.595\n",
      "Precision Score :  0.0\n",
      "Recall Score :  0.0\n"
     ]
    }
   ],
   "source": [
    "print('Accuracy : ' , acc)\n",
    "print('Precision Score : ', pre)\n",
    "print('Recall Score : ', recall)"
   ]
  },
  {
   "cell_type": "markdown",
   "id": "551cefee",
   "metadata": {},
   "source": [
    "I'm unsure why the precision and recall scores are for 0 for this analysis. I have tried subsetting the data and trying various combinations - I was able to achieve the accuracy score from 50% to 85% but the precision and recall scores remain the same. I was lost but my professor told me to give decision tree classifier a try."
   ]
  },
  {
   "cell_type": "markdown",
   "id": "c62f3631",
   "metadata": {},
   "source": [
    "Classification is a two-step process, learning step and prediction step. In the learning step, the model is developed based on given training data. In the prediction step, the model is used to predict the response for given data. Decision Tree is one of the easiest and popular classification algorithms to understand and interpret. It can be utilized for both classification and regression kind of problem."
   ]
  },
  {
   "cell_type": "markdown",
   "id": "66d4d24c",
   "metadata": {},
   "source": [
    "Decision Tree Classifier Building in Scikit-learn\n",
    "Importing Required Libraries and loading the required libraries here"
   ]
  },
  {
   "cell_type": "code",
   "execution_count": 87,
   "id": "d00a5d9a",
   "metadata": {},
   "outputs": [],
   "source": [
    "import numpy as np\n",
    "import matplotlib.pyplot as plt"
   ]
  },
  {
   "cell_type": "code",
   "execution_count": 48,
   "id": "8882a1df",
   "metadata": {},
   "outputs": [],
   "source": [
    "dcdata=df[['year','age','dist','voted_pres_16']]"
   ]
  },
  {
   "cell_type": "code",
   "execution_count": 49,
   "id": "aab65c69",
   "metadata": {},
   "outputs": [],
   "source": [
    "new=dcdata[dcdata['year'] == 2016]"
   ]
  },
  {
   "cell_type": "code",
   "execution_count": 50,
   "id": "061e9d9b",
   "metadata": {},
   "outputs": [],
   "source": [
    "final =new[new['dist'] < 6 ]"
   ]
  },
  {
   "cell_type": "code",
   "execution_count": 51,
   "id": "71f9b7a9",
   "metadata": {},
   "outputs": [],
   "source": [
    "final=final.head(5000)"
   ]
  },
  {
   "cell_type": "code",
   "execution_count": 52,
   "id": "9b54d809",
   "metadata": {},
   "outputs": [
    {
     "data": {
      "text/html": [
       "<div>\n",
       "<style scoped>\n",
       "    .dataframe tbody tr th:only-of-type {\n",
       "        vertical-align: middle;\n",
       "    }\n",
       "\n",
       "    .dataframe tbody tr th {\n",
       "        vertical-align: top;\n",
       "    }\n",
       "\n",
       "    .dataframe thead th {\n",
       "        text-align: right;\n",
       "    }\n",
       "</style>\n",
       "<table border=\"1\" class=\"dataframe\">\n",
       "  <thead>\n",
       "    <tr style=\"text-align: right;\">\n",
       "      <th></th>\n",
       "      <th>year</th>\n",
       "      <th>age</th>\n",
       "      <th>dist</th>\n",
       "      <th>voted_pres_16</th>\n",
       "    </tr>\n",
       "  </thead>\n",
       "  <tbody>\n",
       "    <tr>\n",
       "      <th>309955</th>\n",
       "      <td>2016</td>\n",
       "      <td>47</td>\n",
       "      <td>2</td>\n",
       "      <td>Donald Trump</td>\n",
       "    </tr>\n",
       "    <tr>\n",
       "      <th>309956</th>\n",
       "      <td>2016</td>\n",
       "      <td>22</td>\n",
       "      <td>2</td>\n",
       "      <td>Donald Trump</td>\n",
       "    </tr>\n",
       "    <tr>\n",
       "      <th>309959</th>\n",
       "      <td>2016</td>\n",
       "      <td>34</td>\n",
       "      <td>2</td>\n",
       "      <td>Hilary Clinton</td>\n",
       "    </tr>\n",
       "    <tr>\n",
       "      <th>309961</th>\n",
       "      <td>2016</td>\n",
       "      <td>54</td>\n",
       "      <td>4</td>\n",
       "      <td>Donald Trump</td>\n",
       "    </tr>\n",
       "    <tr>\n",
       "      <th>309965</th>\n",
       "      <td>2016</td>\n",
       "      <td>70</td>\n",
       "      <td>1</td>\n",
       "      <td>Hilary Clinton</td>\n",
       "    </tr>\n",
       "    <tr>\n",
       "      <th>...</th>\n",
       "      <td>...</td>\n",
       "      <td>...</td>\n",
       "      <td>...</td>\n",
       "      <td>...</td>\n",
       "    </tr>\n",
       "    <tr>\n",
       "      <th>320222</th>\n",
       "      <td>2016</td>\n",
       "      <td>56</td>\n",
       "      <td>4</td>\n",
       "      <td>Donald Trump</td>\n",
       "    </tr>\n",
       "    <tr>\n",
       "      <th>320224</th>\n",
       "      <td>2016</td>\n",
       "      <td>60</td>\n",
       "      <td>1</td>\n",
       "      <td>Donald Trump</td>\n",
       "    </tr>\n",
       "    <tr>\n",
       "      <th>320226</th>\n",
       "      <td>2016</td>\n",
       "      <td>70</td>\n",
       "      <td>1</td>\n",
       "      <td>Hilary Clinton</td>\n",
       "    </tr>\n",
       "    <tr>\n",
       "      <th>320227</th>\n",
       "      <td>2016</td>\n",
       "      <td>69</td>\n",
       "      <td>4</td>\n",
       "      <td>Donald Trump</td>\n",
       "    </tr>\n",
       "    <tr>\n",
       "      <th>320230</th>\n",
       "      <td>2016</td>\n",
       "      <td>24</td>\n",
       "      <td>2</td>\n",
       "      <td>Hilary Clinton</td>\n",
       "    </tr>\n",
       "  </tbody>\n",
       "</table>\n",
       "<p>4382 rows × 4 columns</p>\n",
       "</div>"
      ],
      "text/plain": [
       "        year  age  dist   voted_pres_16\n",
       "309955  2016   47     2    Donald Trump\n",
       "309956  2016   22     2    Donald Trump\n",
       "309959  2016   34     2  Hilary Clinton\n",
       "309961  2016   54     4    Donald Trump\n",
       "309965  2016   70     1  Hilary Clinton\n",
       "...      ...  ...   ...             ...\n",
       "320222  2016   56     4    Donald Trump\n",
       "320224  2016   60     1    Donald Trump\n",
       "320226  2016   70     1  Hilary Clinton\n",
       "320227  2016   69     4    Donald Trump\n",
       "320230  2016   24     2  Hilary Clinton\n",
       "\n",
       "[4382 rows x 4 columns]"
      ]
     },
     "execution_count": 52,
     "metadata": {},
     "output_type": "execute_result"
    }
   ],
   "source": [
    "final.dropna()"
   ]
  },
  {
   "cell_type": "code",
   "execution_count": 53,
   "id": "2c314ee9",
   "metadata": {},
   "outputs": [
    {
     "data": {
      "text/plain": [
       "year               0\n",
       "age                0\n",
       "dist               0\n",
       "voted_pres_16    618\n",
       "dtype: int64"
      ]
     },
     "execution_count": 53,
     "metadata": {},
     "output_type": "execute_result"
    }
   ],
   "source": [
    "final.isna().sum()"
   ]
  },
  {
   "cell_type": "code",
   "execution_count": 54,
   "id": "61244a7d",
   "metadata": {},
   "outputs": [
    {
     "data": {
      "text/plain": [
       "['Donald Trump', 'Hilary Clinton', NaN, 'Other / Someone Else', 'Not Sure / Don't Recall', 'Did Not Vote']\n",
       "Categories (5, object): ['Hilary Clinton' < 'Donald Trump' < 'Other / Someone Else' < 'Did Not Vote' < 'Not Sure / Don't Recall']"
      ]
     },
     "execution_count": 54,
     "metadata": {},
     "output_type": "execute_result"
    }
   ],
   "source": [
    "# List of unique classes\n",
    "final['voted_pres_16'].unique()"
   ]
  },
  {
   "cell_type": "code",
   "execution_count": 55,
   "id": "cf265da2",
   "metadata": {},
   "outputs": [],
   "source": [
    "final_clean=final.fillna(\"Not Sure / Don't Recall\")"
   ]
  },
  {
   "cell_type": "code",
   "execution_count": 56,
   "id": "0f85ef72",
   "metadata": {},
   "outputs": [
    {
     "data": {
      "text/plain": [
       "year             0\n",
       "age              0\n",
       "dist             0\n",
       "voted_pres_16    0\n",
       "dtype: int64"
      ]
     },
     "execution_count": 56,
     "metadata": {},
     "output_type": "execute_result"
    }
   ],
   "source": [
    "final_clean.isna().sum()"
   ]
  },
  {
   "cell_type": "code",
   "execution_count": 58,
   "id": "e68925d9",
   "metadata": {},
   "outputs": [],
   "source": [
    "# Load libraries\n",
    "import pandas as pd\n",
    "from sklearn.tree import DecisionTreeClassifier # Import Decision Tree Classifier\n",
    "from sklearn.model_selection import train_test_split # Import train_test_split function\n",
    "from sklearn import metrics #Import scikit-learn metrics module for accuracy calculation"
   ]
  },
  {
   "cell_type": "code",
   "execution_count": 59,
   "id": "d857cb0e",
   "metadata": {},
   "outputs": [],
   "source": [
    "col_names = ['year','age','dist','voted_pres_16']"
   ]
  },
  {
   "cell_type": "markdown",
   "id": "e5e69037",
   "metadata": {},
   "source": [
    "Feature Selection:\n",
    "Here, you need to divide given columns into two types of variables dependent(or target variable) and independent variable(or feature variables)."
   ]
  },
  {
   "cell_type": "code",
   "execution_count": 88,
   "id": "97585d1e",
   "metadata": {},
   "outputs": [],
   "source": [
    "#split dataset in features and target variable\n",
    "feature_cols = ['year','age','dist']\n",
    "X = final_clean[feature_cols] # Features\n",
    "y = final_clean.voted_pres_16 # Target variable"
   ]
  },
  {
   "cell_type": "code",
   "execution_count": 61,
   "id": "904c166c",
   "metadata": {},
   "outputs": [],
   "source": [
    "# Split dataset into training set and test set\n",
    "X_train, X_test, y_train, y_test = train_test_split(X, y, test_size=0.3, random_state=1) # 70% training and 30% test"
   ]
  },
  {
   "cell_type": "markdown",
   "id": "3cad6e1f",
   "metadata": {},
   "source": [
    "Splitting Data\n",
    "To understand model performance, dividing the dataset into a training set and a test set is a good strategy.\n",
    "\n",
    "I've split the dataset by using function train_test_split() by passing 3 parameters features, target, and test_set size."
   ]
  },
  {
   "cell_type": "markdown",
   "id": "c5dd9523",
   "metadata": {},
   "source": [
    "Decision tree classifier for my variable of interest. "
   ]
  },
  {
   "cell_type": "markdown",
   "id": "22ffab96",
   "metadata": {},
   "source": [
    "Building Decision Tree Model\n",
    "Let's create a Decision Tree Model using Scikit-learn."
   ]
  },
  {
   "cell_type": "code",
   "execution_count": 62,
   "id": "6cd753f2",
   "metadata": {},
   "outputs": [],
   "source": [
    "# Create Decision Tree classifer object\n",
    "clf = DecisionTreeClassifier()\n",
    "\n",
    "# Train Decision Tree Classifer\n",
    "clf = clf.fit(X_train,y_train)\n",
    "\n",
    "#Predict the response for test dataset\n",
    "y_pred = clf.predict(X_test)"
   ]
  },
  {
   "cell_type": "markdown",
   "id": "8ced62ff",
   "metadata": {},
   "source": [
    "Evaluating Model\n",
    "Let's estimate, how accurately the classifier or model can predict the type of cultivars.\n",
    "\n",
    "Accuracy can be computed by comparing actual test set values and predicted values."
   ]
  },
  {
   "cell_type": "code",
   "execution_count": 63,
   "id": "0d97a1ff",
   "metadata": {},
   "outputs": [
    {
     "name": "stdout",
     "output_type": "stream",
     "text": [
      "Accuracy: 0.4106666666666667\n"
     ]
    }
   ],
   "source": [
    "# Model Accuracy, how often is the classifier correct?\n",
    "print(\"Accuracy:\",metrics.accuracy_score(y_test, y_pred))"
   ]
  },
  {
   "cell_type": "markdown",
   "id": "6b1b21ba",
   "metadata": {},
   "source": [
    "Decision tree classifier for my variable of interest using entropy"
   ]
  },
  {
   "cell_type": "code",
   "execution_count": 64,
   "id": "a9f05e27",
   "metadata": {},
   "outputs": [
    {
     "name": "stdout",
     "output_type": "stream",
     "text": [
      "Accuracy: 0.42\n"
     ]
    }
   ],
   "source": [
    "# Create Decision Tree classifer object\n",
    "clf = DecisionTreeClassifier(criterion=\"entropy\", max_depth=4)\n",
    "\n",
    "# Train Decision Tree Classifer\n",
    "clf = clf.fit(X_train,y_train)\n",
    "\n",
    "#Predict the response for test dataset\n",
    "y_pred = clf.predict(X_test)\n",
    "\n",
    "# Model Accuracy, how often is the classifier correct?\n",
    "print(\"Accuracy:\",metrics.accuracy_score(y_test, y_pred))"
   ]
  },
  {
   "cell_type": "code",
   "execution_count": 65,
   "id": "a6ee88c0",
   "metadata": {},
   "outputs": [
    {
     "data": {
      "text/plain": [
       "309955               Donald Trump\n",
       "309956               Donald Trump\n",
       "309959             Hilary Clinton\n",
       "309960    Not Sure / Don't Recall\n",
       "309961               Donald Trump\n",
       "                   ...           \n",
       "320222               Donald Trump\n",
       "320224               Donald Trump\n",
       "320226             Hilary Clinton\n",
       "320227               Donald Trump\n",
       "320230             Hilary Clinton\n",
       "Name: voted_pres_16, Length: 5000, dtype: category\n",
       "Categories (5, object): ['Hilary Clinton' < 'Donald Trump' < 'Other / Someone Else' < 'Did Not Vote' < 'Not Sure / Don't Recall']"
      ]
     },
     "execution_count": 65,
     "metadata": {},
     "output_type": "execute_result"
    }
   ],
   "source": [
    "final_clean['voted_pres_16']"
   ]
  },
  {
   "cell_type": "markdown",
   "id": "040a714a",
   "metadata": {},
   "source": [
    "Another approach to decision tree classification model evaluation"
   ]
  },
  {
   "cell_type": "code",
   "execution_count": 66,
   "id": "6819f8d0",
   "metadata": {},
   "outputs": [
    {
     "data": {
      "text/plain": [
       "['Donald Trump', 'Hilary Clinton', 'Not Sure / Don't Recall', 'Other / Someone Else', 'Did Not Vote']\n",
       "Categories (5, object): ['Hilary Clinton' < 'Donald Trump' < 'Other / Someone Else' < 'Did Not Vote' < 'Not Sure / Don't Recall']"
      ]
     },
     "execution_count": 66,
     "metadata": {},
     "output_type": "execute_result"
    }
   ],
   "source": [
    "# List of unique classes\n",
    "final_clean['voted_pres_16'].unique()"
   ]
  },
  {
   "cell_type": "code",
   "execution_count": 67,
   "id": "e19166dd",
   "metadata": {},
   "outputs": [
    {
     "data": {
      "text/plain": [
       "voted_pres_16\n",
       "Hilary Clinton             2068\n",
       "Donald Trump               1907\n",
       "Other / Someone Else        386\n",
       "Did Not Vote                  6\n",
       "Not Sure / Don't Recall     633\n",
       "dtype: int64"
      ]
     },
     "execution_count": 67,
     "metadata": {},
     "output_type": "execute_result"
    }
   ],
   "source": [
    "# Number of entries for each unique classes\n",
    "class_group = final_clean.groupby('voted_pres_16').apply(lambda x: len(x))\n",
    "class_group"
   ]
  },
  {
   "cell_type": "code",
   "execution_count": 68,
   "id": "d89fed4b",
   "metadata": {},
   "outputs": [
    {
     "data": {
      "text/plain": [
       "<AxesSubplot:xlabel='voted_pres_16'>"
      ]
     },
     "execution_count": 68,
     "metadata": {},
     "output_type": "execute_result"
    },
    {
     "data": {
      "image/png": "[encoded data removed]",
      "text/plain": [
       "<Figure size 432x288 with 1 Axes>"
      ]
     },
     "metadata": {
      "needs_background": "light"
     },
     "output_type": "display_data"
    }
   ],
   "source": [
    "# Plot bar chart based on Class Label\n",
    "class_group.plot(kind='bar', grid=False)"
   ]
  },
  {
   "cell_type": "code",
   "execution_count": 69,
   "id": "1a7adf0a",
   "metadata": {},
   "outputs": [],
   "source": [
    "from sklearn.preprocessing import LabelEncoder\n",
    "from sklearn.feature_extraction import DictVectorizer\n",
    "\n",
    "cols_to_retain = ['year','age','dist']\n",
    "\n",
    "X_feature = final_clean[cols_to_retain]\n",
    "X_dict = X_feature.T.to_dict().values()\n",
    "\n",
    "# turn list of dicts into a numpy array\n",
    "vect = DictVectorizer(sparse=False)\n",
    "X_vector = vect.fit_transform(X_dict)\n",
    "\n",
    "# print the features\n",
    "# vect.get_feature_names()\n",
    "\n",
    "# 0 to 14 is train set\n",
    "X_Train = X_vector[:-1]\n",
    "# 15th is test set\n",
    "X_Test = X_vector[-1:] \n",
    "\n",
    "# Used to vectorize the class label\n",
    "le = LabelEncoder()\n",
    "y_train = le.fit_transform(final_clean['voted_pres_16'][:-1])"
   ]
  },
  {
   "cell_type": "code",
   "execution_count": 70,
   "id": "7ee916e4",
   "metadata": {},
   "outputs": [],
   "source": [
    "from sklearn import tree\n",
    "\n",
    "clf = tree.DecisionTreeClassifier(criterion='entropy')\n",
    "clf = clf.fit(X_Train,y_train)"
   ]
  },
  {
   "cell_type": "code",
   "execution_count": 71,
   "id": "cca7e8eb",
   "metadata": {},
   "outputs": [
    {
     "data": {
      "text/plain": [
       "array([\"Not Sure / Don't Recall\"], dtype=object)"
      ]
     },
     "execution_count": 71,
     "metadata": {},
     "output_type": "execute_result"
    }
   ],
   "source": [
    "# Predict the test data, not seen earlier\n",
    "le.inverse_transform(clf.predict(X_Test))"
   ]
  },
  {
   "cell_type": "code",
   "execution_count": 72,
   "id": "e6086bc2",
   "metadata": {},
   "outputs": [],
   "source": [
    "# prediction with the same training set\n",
    "Train_predict = clf.predict(X_Train)"
   ]
  },
  {
   "cell_type": "code",
   "execution_count": 73,
   "id": "ff22d4d8",
   "metadata": {},
   "outputs": [
    {
     "data": {
      "text/plain": [
       "False"
      ]
     },
     "execution_count": 73,
     "metadata": {},
     "output_type": "execute_result"
    }
   ],
   "source": [
    "# The model predicted the training set correctly\n",
    "(Train_predict == y_train).all()"
   ]
  },
  {
   "cell_type": "code",
   "execution_count": 74,
   "id": "35a2fde9",
   "metadata": {},
   "outputs": [
    {
     "name": "stdout",
     "output_type": "stream",
     "text": [
      "Accuracy is: 0.5057011402280456\n",
      "              precision    recall  f1-score   support\n",
      "\n",
      "           0       0.00      0.00      0.00         6\n",
      "           1       0.50      0.58      0.54      1907\n",
      "           2       0.50      0.63      0.56      2067\n",
      "           3       0.57      0.16      0.25       633\n",
      "           4       0.50      0.03      0.05       386\n",
      "\n",
      "    accuracy                           0.51      4999\n",
      "   macro avg       0.41      0.28      0.28      4999\n",
      "weighted avg       0.51      0.51      0.47      4999\n",
      "\n"
     ]
    },
    {
     "name": "stderr",
     "output_type": "stream",
     "text": [
      "C:\\Users\\LENOVO\\anaconda3\\lib\\site-packages\\sklearn\\metrics\\_classification.py:1248: UndefinedMetricWarning: Precision and F-score are ill-defined and being set to 0.0 in labels with no predicted samples. Use `zero_division` parameter to control this behavior.\n",
      "  _warn_prf(average, modifier, msg_start, len(result))\n",
      "C:\\Users\\LENOVO\\anaconda3\\lib\\site-packages\\sklearn\\metrics\\_classification.py:1248: UndefinedMetricWarning: Precision and F-score are ill-defined and being set to 0.0 in labels with no predicted samples. Use `zero_division` parameter to control this behavior.\n",
      "  _warn_prf(average, modifier, msg_start, len(result))\n",
      "C:\\Users\\LENOVO\\anaconda3\\lib\\site-packages\\sklearn\\metrics\\_classification.py:1248: UndefinedMetricWarning: Precision and F-score are ill-defined and being set to 0.0 in labels with no predicted samples. Use `zero_division` parameter to control this behavior.\n",
      "  _warn_prf(average, modifier, msg_start, len(result))\n"
     ]
    }
   ],
   "source": [
    "# Metrics related to the DecisionTreeClassifier\n",
    "from sklearn.metrics import accuracy_score, classification_report\n",
    "\n",
    "print('Accuracy is:', accuracy_score(y_train, Train_predict))\n",
    "print(classification_report(y_train, Train_predict))"
   ]
  },
  {
   "cell_type": "markdown",
   "id": "da501281",
   "metadata": {},
   "source": [
    "Altair is a Python visualization library based on vega and vega-lite. The vega and vega lite are declarative programming languages where you specify properties of the graph as JSON and it plots graph based on that using Canvas or SVG. As Altair is built on top of these libraries, it provides almost the same functionalities as them in python. Altair's API is simple and easy to use which lets the developer spend more time on data analysis than getting visualizations right. First import all the necessary libraries to get started."
   ]
  },
  {
   "cell_type": "code",
   "execution_count": 75,
   "id": "b1f86a6b",
   "metadata": {},
   "outputs": [
    {
     "data": {
      "text/plain": [
       "RendererRegistry.enable('altair_viewer')"
      ]
     },
     "execution_count": 75,
     "metadata": {},
     "output_type": "execute_result"
    }
   ],
   "source": [
    "import altair as alt\n",
    "alt.renderers.enable('altair_viewer')"
   ]
  },
  {
   "cell_type": "code",
   "execution_count": 76,
   "id": "0d8825fa",
   "metadata": {},
   "outputs": [
    {
     "data": {
      "text/html": [
       "<div>\n",
       "<style scoped>\n",
       "    .dataframe tbody tr th:only-of-type {\n",
       "        vertical-align: middle;\n",
       "    }\n",
       "\n",
       "    .dataframe tbody tr th {\n",
       "        vertical-align: top;\n",
       "    }\n",
       "\n",
       "    .dataframe thead th {\n",
       "        text-align: right;\n",
       "    }\n",
       "</style>\n",
       "<table border=\"1\" class=\"dataframe\">\n",
       "  <thead>\n",
       "    <tr style=\"text-align: right;\">\n",
       "      <th></th>\n",
       "      <th>year</th>\n",
       "      <th>case_id</th>\n",
       "      <th>weight</th>\n",
       "      <th>weight_cumulative</th>\n",
       "      <th>state</th>\n",
       "      <th>st</th>\n",
       "      <th>cong</th>\n",
       "      <th>cong_up</th>\n",
       "      <th>state_post</th>\n",
       "      <th>st_post</th>\n",
       "      <th>...</th>\n",
       "      <th>voted_rep_chosen</th>\n",
       "      <th>voted_sen_chosen</th>\n",
       "      <th>voted_gov_chosen</th>\n",
       "      <th>rep_current</th>\n",
       "      <th>rep_icpsr</th>\n",
       "      <th>sen1_current</th>\n",
       "      <th>sen1_icpsr</th>\n",
       "      <th>sen2_current</th>\n",
       "      <th>sen2_icpsr</th>\n",
       "      <th>gov_current</th>\n",
       "    </tr>\n",
       "  </thead>\n",
       "  <tbody>\n",
       "    <tr>\n",
       "      <th>0</th>\n",
       "      <td>2006</td>\n",
       "      <td>439219</td>\n",
       "      <td>1.851676</td>\n",
       "      <td>1.667581</td>\n",
       "      <td>North Carolina</td>\n",
       "      <td>NC</td>\n",
       "      <td>109</td>\n",
       "      <td>110</td>\n",
       "      <td>North Carolina</td>\n",
       "      <td>NC</td>\n",
       "      <td>...</td>\n",
       "      <td>Richard C. Carsner (D)</td>\n",
       "      <td></td>\n",
       "      <td></td>\n",
       "      <td>Patrick T. McHenry (R)</td>\n",
       "      <td>20522</td>\n",
       "      <td>Elizabeth Dole (R)</td>\n",
       "      <td>40303</td>\n",
       "      <td>Richard Burr (R)</td>\n",
       "      <td>29548</td>\n",
       "      <td>Michael Easley (D)</td>\n",
       "    </tr>\n",
       "    <tr>\n",
       "      <th>1</th>\n",
       "      <td>2006</td>\n",
       "      <td>439224</td>\n",
       "      <td>0.968308</td>\n",
       "      <td>0.872039</td>\n",
       "      <td>Ohio</td>\n",
       "      <td>OH</td>\n",
       "      <td>109</td>\n",
       "      <td>110</td>\n",
       "      <td>Ohio</td>\n",
       "      <td>OH</td>\n",
       "      <td>...</td>\n",
       "      <td>Stephanie Studebaker (D)</td>\n",
       "      <td>Sherrod C. Brown (D)</td>\n",
       "      <td>Ted Strickland (D)</td>\n",
       "      <td>Michael R. Turner (R)</td>\n",
       "      <td>20342</td>\n",
       "      <td>Mike DeWine (R)</td>\n",
       "      <td>15020</td>\n",
       "      <td>George V. Voinovich (R)</td>\n",
       "      <td>49903</td>\n",
       "      <td>Bob Taft (R)</td>\n",
       "    </tr>\n",
       "    <tr>\n",
       "      <th>2</th>\n",
       "      <td>2006</td>\n",
       "      <td>439228</td>\n",
       "      <td>1.593441</td>\n",
       "      <td>1.435020</td>\n",
       "      <td>New Jersey</td>\n",
       "      <td>NJ</td>\n",
       "      <td>109</td>\n",
       "      <td>110</td>\n",
       "      <td>New Jersey</td>\n",
       "      <td>NJ</td>\n",
       "      <td>...</td>\n",
       "      <td>Robert E. Andrews (D)</td>\n",
       "      <td>Robert Menendez (D)</td>\n",
       "      <td></td>\n",
       "      <td>Robert E. Andrews (D)</td>\n",
       "      <td>29132</td>\n",
       "      <td>Robert Menendez (D)</td>\n",
       "      <td>29373</td>\n",
       "      <td>Frank R. Lautenberg (D)</td>\n",
       "      <td>14914</td>\n",
       "      <td>Jon Corzine (D)</td>\n",
       "    </tr>\n",
       "    <tr>\n",
       "      <th>3</th>\n",
       "      <td>2006</td>\n",
       "      <td>439237</td>\n",
       "      <td>1.398529</td>\n",
       "      <td>1.259486</td>\n",
       "      <td>Illinois</td>\n",
       "      <td>IL</td>\n",
       "      <td>109</td>\n",
       "      <td>110</td>\n",
       "      <td>Illinois</td>\n",
       "      <td>IL</td>\n",
       "      <td>...</td>\n",
       "      <td>Janice D. Schakowsky (D)</td>\n",
       "      <td></td>\n",
       "      <td>Rod Blagojevich (D)</td>\n",
       "      <td>Janice D. Schakowsky (D)</td>\n",
       "      <td>29911</td>\n",
       "      <td>Richard Durbin (D)</td>\n",
       "      <td>15021</td>\n",
       "      <td>Barack Obama (D)</td>\n",
       "      <td>40502</td>\n",
       "      <td>Rod Blagojevich (D)</td>\n",
       "    </tr>\n",
       "    <tr>\n",
       "      <th>4</th>\n",
       "      <td>2006</td>\n",
       "      <td>439238</td>\n",
       "      <td>0.902890</td>\n",
       "      <td>0.813124</td>\n",
       "      <td>New York</td>\n",
       "      <td>NY</td>\n",
       "      <td>109</td>\n",
       "      <td>110</td>\n",
       "      <td>New York</td>\n",
       "      <td>NY</td>\n",
       "      <td>...</td>\n",
       "      <td>Maurice D. Hinchey (D)</td>\n",
       "      <td>Hillary Rodham Clinton (D)</td>\n",
       "      <td>Eliot Spitzer (D)</td>\n",
       "      <td>Maurice D. Hinchey (D)</td>\n",
       "      <td>29380</td>\n",
       "      <td>Charles E. Schumer (D)</td>\n",
       "      <td>14858</td>\n",
       "      <td>Hillary Rodham Clinton (D)</td>\n",
       "      <td>40105</td>\n",
       "      <td>George Pataki (R)</td>\n",
       "    </tr>\n",
       "    <tr>\n",
       "      <th>...</th>\n",
       "      <td>...</td>\n",
       "      <td>...</td>\n",
       "      <td>...</td>\n",
       "      <td>...</td>\n",
       "      <td>...</td>\n",
       "      <td>...</td>\n",
       "      <td>...</td>\n",
       "      <td>...</td>\n",
       "      <td>...</td>\n",
       "      <td>...</td>\n",
       "      <td>...</td>\n",
       "      <td>...</td>\n",
       "      <td>...</td>\n",
       "      <td>...</td>\n",
       "      <td>...</td>\n",
       "      <td>...</td>\n",
       "      <td>...</td>\n",
       "      <td>...</td>\n",
       "      <td>...</td>\n",
       "      <td>...</td>\n",
       "      <td>...</td>\n",
       "    </tr>\n",
       "    <tr>\n",
       "      <th>531750</th>\n",
       "      <td>2020</td>\n",
       "      <td>1199586597</td>\n",
       "      <td>1.766100</td>\n",
       "      <td>0.949641</td>\n",
       "      <td>Pennsylvania</td>\n",
       "      <td>PA</td>\n",
       "      <td>116</td>\n",
       "      <td>117</td>\n",
       "      <td>NaN</td>\n",
       "      <td>NaN</td>\n",
       "      <td>...</td>\n",
       "      <td></td>\n",
       "      <td></td>\n",
       "      <td></td>\n",
       "      <td>Scott Perry (R)</td>\n",
       "      <td>21356</td>\n",
       "      <td>Bob Casey Jr. (D)</td>\n",
       "      <td>40703</td>\n",
       "      <td>Pat Toomey (R)</td>\n",
       "      <td>29935</td>\n",
       "      <td>Tom Wolf (D)</td>\n",
       "    </tr>\n",
       "    <tr>\n",
       "      <th>531751</th>\n",
       "      <td>2020</td>\n",
       "      <td>1261249927</td>\n",
       "      <td>1.158300</td>\n",
       "      <td>0.622824</td>\n",
       "      <td>Oregon</td>\n",
       "      <td>OR</td>\n",
       "      <td>116</td>\n",
       "      <td>117</td>\n",
       "      <td>Oregon</td>\n",
       "      <td>OR</td>\n",
       "      <td>...</td>\n",
       "      <td>Peter DeFazio (D)</td>\n",
       "      <td>Jeff Merkley (D)</td>\n",
       "      <td></td>\n",
       "      <td>Peter DeFazio (D)</td>\n",
       "      <td>15410</td>\n",
       "      <td>Ron Wyden (D)</td>\n",
       "      <td>14871</td>\n",
       "      <td>Jeff Merkley (D)</td>\n",
       "      <td>40908</td>\n",
       "      <td>Kate Brown (D)</td>\n",
       "    </tr>\n",
       "    <tr>\n",
       "      <th>531752</th>\n",
       "      <td>2020</td>\n",
       "      <td>1261247715</td>\n",
       "      <td>1.571700</td>\n",
       "      <td>0.845111</td>\n",
       "      <td>Iowa</td>\n",
       "      <td>IA</td>\n",
       "      <td>116</td>\n",
       "      <td>117</td>\n",
       "      <td>Iowa</td>\n",
       "      <td>IA</td>\n",
       "      <td>...</td>\n",
       "      <td>David Young (R)</td>\n",
       "      <td>Joni Ernst (R)</td>\n",
       "      <td></td>\n",
       "      <td>Cindy Axne (D)</td>\n",
       "      <td>21902</td>\n",
       "      <td>Chuck Grassley (R)</td>\n",
       "      <td>14226</td>\n",
       "      <td>Joni Ernst (R)</td>\n",
       "      <td>41502</td>\n",
       "      <td>Kim Reynolds (R)</td>\n",
       "    </tr>\n",
       "    <tr>\n",
       "      <th>531753</th>\n",
       "      <td>2020</td>\n",
       "      <td>1257274335</td>\n",
       "      <td>1.011000</td>\n",
       "      <td>0.543620</td>\n",
       "      <td>Texas</td>\n",
       "      <td>TX</td>\n",
       "      <td>116</td>\n",
       "      <td>117</td>\n",
       "      <td>NaN</td>\n",
       "      <td>NaN</td>\n",
       "      <td>...</td>\n",
       "      <td></td>\n",
       "      <td></td>\n",
       "      <td></td>\n",
       "      <td>Chip Roy (R)</td>\n",
       "      <td>21961</td>\n",
       "      <td>John Cornyn (R)</td>\n",
       "      <td>40305</td>\n",
       "      <td>Ted Cruz (R)</td>\n",
       "      <td>41304</td>\n",
       "      <td>Greg Abbott (R)</td>\n",
       "    </tr>\n",
       "    <tr>\n",
       "      <th>531754</th>\n",
       "      <td>2020</td>\n",
       "      <td>1261243127</td>\n",
       "      <td>0.737700</td>\n",
       "      <td>0.396665</td>\n",
       "      <td>Ohio</td>\n",
       "      <td>OH</td>\n",
       "      <td>116</td>\n",
       "      <td>117</td>\n",
       "      <td>Ohio</td>\n",
       "      <td>OH</td>\n",
       "      <td>...</td>\n",
       "      <td></td>\n",
       "      <td></td>\n",
       "      <td></td>\n",
       "      <td>Troy Balderson (R)</td>\n",
       "      <td>21759</td>\n",
       "      <td>Sherrod Brown (D)</td>\n",
       "      <td>29389</td>\n",
       "      <td>Rob Portman (R)</td>\n",
       "      <td>29386</td>\n",
       "      <td>Mike DeWine (R)</td>\n",
       "    </tr>\n",
       "  </tbody>\n",
       "</table>\n",
       "<p>531755 rows × 93 columns</p>\n",
       "</div>"
      ],
      "text/plain": [
       "        year     case_id    weight  weight_cumulative           state  st  \\\n",
       "0       2006      439219  1.851676           1.667581  North Carolina  NC   \n",
       "1       2006      439224  0.968308           0.872039            Ohio  OH   \n",
       "2       2006      439228  1.593441           1.435020      New Jersey  NJ   \n",
       "3       2006      439237  1.398529           1.259486        Illinois  IL   \n",
       "4       2006      439238  0.902890           0.813124        New York  NY   \n",
       "...      ...         ...       ...                ...             ...  ..   \n",
       "531750  2020  1199586597  1.766100           0.949641    Pennsylvania  PA   \n",
       "531751  2020  1261249927  1.158300           0.622824          Oregon  OR   \n",
       "531752  2020  1261247715  1.571700           0.845111            Iowa  IA   \n",
       "531753  2020  1257274335  1.011000           0.543620           Texas  TX   \n",
       "531754  2020  1261243127  0.737700           0.396665            Ohio  OH   \n",
       "\n",
       "       cong cong_up      state_post st_post  ...          voted_rep_chosen  \\\n",
       "0       109     110  North Carolina      NC  ...    Richard C. Carsner (D)   \n",
       "1       109     110            Ohio      OH  ...  Stephanie Studebaker (D)   \n",
       "2       109     110      New Jersey      NJ  ...     Robert E. Andrews (D)   \n",
       "3       109     110        Illinois      IL  ...  Janice D. Schakowsky (D)   \n",
       "4       109     110        New York      NY  ...    Maurice D. Hinchey (D)   \n",
       "...     ...     ...             ...     ...  ...                       ...   \n",
       "531750  116     117             NaN     NaN  ...                             \n",
       "531751  116     117          Oregon      OR  ...         Peter DeFazio (D)   \n",
       "531752  116     117            Iowa      IA  ...           David Young (R)   \n",
       "531753  116     117             NaN     NaN  ...                             \n",
       "531754  116     117            Ohio      OH  ...                             \n",
       "\n",
       "                  voted_sen_chosen     voted_gov_chosen  \\\n",
       "0                                                         \n",
       "1             Sherrod C. Brown (D)   Ted Strickland (D)   \n",
       "2              Robert Menendez (D)                        \n",
       "3                                   Rod Blagojevich (D)   \n",
       "4       Hillary Rodham Clinton (D)    Eliot Spitzer (D)   \n",
       "...                            ...                  ...   \n",
       "531750                                                    \n",
       "531751            Jeff Merkley (D)                        \n",
       "531752              Joni Ernst (R)                        \n",
       "531753                                                    \n",
       "531754                                                    \n",
       "\n",
       "                     rep_current  rep_icpsr            sen1_current  \\\n",
       "0         Patrick T. McHenry (R)      20522      Elizabeth Dole (R)   \n",
       "1          Michael R. Turner (R)      20342         Mike DeWine (R)   \n",
       "2          Robert E. Andrews (D)      29132     Robert Menendez (D)   \n",
       "3       Janice D. Schakowsky (D)      29911      Richard Durbin (D)   \n",
       "4         Maurice D. Hinchey (D)      29380  Charles E. Schumer (D)   \n",
       "...                          ...        ...                     ...   \n",
       "531750           Scott Perry (R)      21356       Bob Casey Jr. (D)   \n",
       "531751         Peter DeFazio (D)      15410           Ron Wyden (D)   \n",
       "531752            Cindy Axne (D)      21902      Chuck Grassley (R)   \n",
       "531753              Chip Roy (R)      21961         John Cornyn (R)   \n",
       "531754        Troy Balderson (R)      21759       Sherrod Brown (D)   \n",
       "\n",
       "       sen1_icpsr                sen2_current sen2_icpsr          gov_current  \n",
       "0           40303            Richard Burr (R)      29548   Michael Easley (D)  \n",
       "1           15020     George V. Voinovich (R)      49903         Bob Taft (R)  \n",
       "2           29373     Frank R. Lautenberg (D)      14914      Jon Corzine (D)  \n",
       "3           15021            Barack Obama (D)      40502  Rod Blagojevich (D)  \n",
       "4           14858  Hillary Rodham Clinton (D)      40105    George Pataki (R)  \n",
       "...           ...                         ...        ...                  ...  \n",
       "531750      40703              Pat Toomey (R)      29935         Tom Wolf (D)  \n",
       "531751      14871            Jeff Merkley (D)      40908       Kate Brown (D)  \n",
       "531752      14226              Joni Ernst (R)      41502     Kim Reynolds (R)  \n",
       "531753      40305                Ted Cruz (R)      41304      Greg Abbott (R)  \n",
       "531754      29389             Rob Portman (R)      29386      Mike DeWine (R)  \n",
       "\n",
       "[531755 rows x 93 columns]"
      ]
     },
     "execution_count": 76,
     "metadata": {},
     "output_type": "execute_result"
    }
   ],
   "source": [
    "df"
   ]
  },
  {
   "cell_type": "code",
   "execution_count": 77,
   "id": "63a6f907",
   "metadata": {},
   "outputs": [],
   "source": [
    "altdata = df[(df['st'] == 'CA') | (df['st'] == 'NV') | (df['st'] == 'AZ')| (df['st'] == 'OR') | (df['st'] == 'WA') | (df['st'] == 'NM')]"
   ]
  },
  {
   "cell_type": "code",
   "execution_count": 78,
   "id": "3c6f235a",
   "metadata": {},
   "outputs": [
    {
     "data": {
      "text/html": [
       "<div>\n",
       "<style scoped>\n",
       "    .dataframe tbody tr th:only-of-type {\n",
       "        vertical-align: middle;\n",
       "    }\n",
       "\n",
       "    .dataframe tbody tr th {\n",
       "        vertical-align: top;\n",
       "    }\n",
       "\n",
       "    .dataframe thead th {\n",
       "        text-align: right;\n",
       "    }\n",
       "</style>\n",
       "<table border=\"1\" class=\"dataframe\">\n",
       "  <thead>\n",
       "    <tr style=\"text-align: right;\">\n",
       "      <th></th>\n",
       "      <th>year</th>\n",
       "      <th>case_id</th>\n",
       "      <th>weight</th>\n",
       "      <th>weight_cumulative</th>\n",
       "      <th>state</th>\n",
       "      <th>st</th>\n",
       "      <th>cong</th>\n",
       "      <th>cong_up</th>\n",
       "      <th>state_post</th>\n",
       "      <th>st_post</th>\n",
       "      <th>...</th>\n",
       "      <th>voted_rep_chosen</th>\n",
       "      <th>voted_sen_chosen</th>\n",
       "      <th>voted_gov_chosen</th>\n",
       "      <th>rep_current</th>\n",
       "      <th>rep_icpsr</th>\n",
       "      <th>sen1_current</th>\n",
       "      <th>sen1_icpsr</th>\n",
       "      <th>sen2_current</th>\n",
       "      <th>sen2_icpsr</th>\n",
       "      <th>gov_current</th>\n",
       "    </tr>\n",
       "  </thead>\n",
       "  <tbody>\n",
       "    <tr>\n",
       "      <th>7</th>\n",
       "      <td>2006</td>\n",
       "      <td>439254</td>\n",
       "      <td>0.838927</td>\n",
       "      <td>0.755521</td>\n",
       "      <td>Nevada</td>\n",
       "      <td>NV</td>\n",
       "      <td>109</td>\n",
       "      <td>110</td>\n",
       "      <td>Nevada</td>\n",
       "      <td>NV</td>\n",
       "      <td>...</td>\n",
       "      <td>Jill Derby (D)</td>\n",
       "      <td>Jack Carter (D)</td>\n",
       "      <td>Dina Titus (D)</td>\n",
       "      <td>Jim Gibbons (R)</td>\n",
       "      <td>29739</td>\n",
       "      <td>Harry Reid (D)</td>\n",
       "      <td>15054</td>\n",
       "      <td>John Ensign (R)</td>\n",
       "      <td>29537</td>\n",
       "      <td>Kenny Guinn (R)</td>\n",
       "    </tr>\n",
       "    <tr>\n",
       "      <th>11</th>\n",
       "      <td>2006</td>\n",
       "      <td>439269</td>\n",
       "      <td>0.902890</td>\n",
       "      <td>0.813124</td>\n",
       "      <td>California</td>\n",
       "      <td>CA</td>\n",
       "      <td>109</td>\n",
       "      <td>110</td>\n",
       "      <td>California</td>\n",
       "      <td>CA</td>\n",
       "      <td>...</td>\n",
       "      <td>John W. Jones (R)</td>\n",
       "      <td>Richard \"Dick\" Mountjoy (R)</td>\n",
       "      <td></td>\n",
       "      <td>Mike Thompson (D)</td>\n",
       "      <td>29901</td>\n",
       "      <td>Dianne Feinstein (D)</td>\n",
       "      <td>49300</td>\n",
       "      <td>Barbara Boxer (D)</td>\n",
       "      <td>15011</td>\n",
       "      <td>Arnold Schwarzenegger (R)</td>\n",
       "    </tr>\n",
       "    <tr>\n",
       "      <th>12</th>\n",
       "      <td>2006</td>\n",
       "      <td>439270</td>\n",
       "      <td>0.612356</td>\n",
       "      <td>0.551475</td>\n",
       "      <td>California</td>\n",
       "      <td>CA</td>\n",
       "      <td>109</td>\n",
       "      <td>110</td>\n",
       "      <td>California</td>\n",
       "      <td>CA</td>\n",
       "      <td>...</td>\n",
       "      <td></td>\n",
       "      <td>Richard \"Dick\" Mountjoy (R)</td>\n",
       "      <td>Arnold Schwarzenegger (R)</td>\n",
       "      <td>Mike Thompson (D)</td>\n",
       "      <td>29901</td>\n",
       "      <td>Dianne Feinstein (D)</td>\n",
       "      <td>49300</td>\n",
       "      <td>Barbara Boxer (D)</td>\n",
       "      <td>15011</td>\n",
       "      <td>Arnold Schwarzenegger (R)</td>\n",
       "    </tr>\n",
       "    <tr>\n",
       "      <th>14</th>\n",
       "      <td>2006</td>\n",
       "      <td>439281</td>\n",
       "      <td>0.838927</td>\n",
       "      <td>0.755521</td>\n",
       "      <td>Washington</td>\n",
       "      <td>WA</td>\n",
       "      <td>109</td>\n",
       "      <td>110</td>\n",
       "      <td>Washington</td>\n",
       "      <td>WA</td>\n",
       "      <td>...</td>\n",
       "      <td>Darcy Burner (D)</td>\n",
       "      <td>Maria Cantwell (D)</td>\n",
       "      <td></td>\n",
       "      <td>David G. Reichert (R)</td>\n",
       "      <td>20536</td>\n",
       "      <td>Patty Murray (D)</td>\n",
       "      <td>49308</td>\n",
       "      <td>Maria Cantwell (D)</td>\n",
       "      <td>39310</td>\n",
       "      <td>Christine Gregoire (D)</td>\n",
       "    </tr>\n",
       "    <tr>\n",
       "      <th>28</th>\n",
       "      <td>2006</td>\n",
       "      <td>439362</td>\n",
       "      <td>1.992852</td>\n",
       "      <td>1.794722</td>\n",
       "      <td>Nevada</td>\n",
       "      <td>NV</td>\n",
       "      <td>109</td>\n",
       "      <td>110</td>\n",
       "      <td>Nevada</td>\n",
       "      <td>NV</td>\n",
       "      <td>...</td>\n",
       "      <td>Jon C. Porter (R)</td>\n",
       "      <td>John Ensign (R)</td>\n",
       "      <td>Jim Gibbons (R)</td>\n",
       "      <td>Jon C. Porter (R)</td>\n",
       "      <td>20334</td>\n",
       "      <td>Harry Reid (D)</td>\n",
       "      <td>15054</td>\n",
       "      <td>John Ensign (R)</td>\n",
       "      <td>29537</td>\n",
       "      <td>Kenny Guinn (R)</td>\n",
       "    </tr>\n",
       "    <tr>\n",
       "      <th>...</th>\n",
       "      <td>...</td>\n",
       "      <td>...</td>\n",
       "      <td>...</td>\n",
       "      <td>...</td>\n",
       "      <td>...</td>\n",
       "      <td>...</td>\n",
       "      <td>...</td>\n",
       "      <td>...</td>\n",
       "      <td>...</td>\n",
       "      <td>...</td>\n",
       "      <td>...</td>\n",
       "      <td>...</td>\n",
       "      <td>...</td>\n",
       "      <td>...</td>\n",
       "      <td>...</td>\n",
       "      <td>...</td>\n",
       "      <td>...</td>\n",
       "      <td>...</td>\n",
       "      <td>...</td>\n",
       "      <td>...</td>\n",
       "      <td>...</td>\n",
       "    </tr>\n",
       "    <tr>\n",
       "      <th>531725</th>\n",
       "      <td>2020</td>\n",
       "      <td>1261090355</td>\n",
       "      <td>0.842700</td>\n",
       "      <td>0.453124</td>\n",
       "      <td>California</td>\n",
       "      <td>CA</td>\n",
       "      <td>116</td>\n",
       "      <td>117</td>\n",
       "      <td>NaN</td>\n",
       "      <td>NaN</td>\n",
       "      <td>...</td>\n",
       "      <td></td>\n",
       "      <td></td>\n",
       "      <td></td>\n",
       "      <td>Scott Peters (D)</td>\n",
       "      <td>21315</td>\n",
       "      <td>Dianne Feinstein (D)</td>\n",
       "      <td>49300</td>\n",
       "      <td>Kamala Harris (D)</td>\n",
       "      <td>41701</td>\n",
       "      <td>Gavin Newsom (D)</td>\n",
       "    </tr>\n",
       "    <tr>\n",
       "      <th>531735</th>\n",
       "      <td>2020</td>\n",
       "      <td>1261191455</td>\n",
       "      <td>1.758000</td>\n",
       "      <td>0.945285</td>\n",
       "      <td>Oregon</td>\n",
       "      <td>OR</td>\n",
       "      <td>116</td>\n",
       "      <td>117</td>\n",
       "      <td>NaN</td>\n",
       "      <td>NaN</td>\n",
       "      <td>...</td>\n",
       "      <td></td>\n",
       "      <td></td>\n",
       "      <td></td>\n",
       "      <td>Greg Walden (R)</td>\n",
       "      <td>29932</td>\n",
       "      <td>Ron Wyden (D)</td>\n",
       "      <td>14871</td>\n",
       "      <td>Jeff Merkley (D)</td>\n",
       "      <td>40908</td>\n",
       "      <td>Kate Brown (D)</td>\n",
       "    </tr>\n",
       "    <tr>\n",
       "      <th>531740</th>\n",
       "      <td>2020</td>\n",
       "      <td>1261130755</td>\n",
       "      <td>0.794500</td>\n",
       "      <td>0.427207</td>\n",
       "      <td>Washington</td>\n",
       "      <td>WA</td>\n",
       "      <td>116</td>\n",
       "      <td>117</td>\n",
       "      <td>NaN</td>\n",
       "      <td>NaN</td>\n",
       "      <td>...</td>\n",
       "      <td></td>\n",
       "      <td></td>\n",
       "      <td></td>\n",
       "      <td>Cathy McMorris Rodgers (R)</td>\n",
       "      <td>20535</td>\n",
       "      <td>Patty Murray (D)</td>\n",
       "      <td>49308</td>\n",
       "      <td>Maria Cantwell (D)</td>\n",
       "      <td>39310</td>\n",
       "      <td>Jay Inslee (D)</td>\n",
       "    </tr>\n",
       "    <tr>\n",
       "      <th>531747</th>\n",
       "      <td>2020</td>\n",
       "      <td>1261149227</td>\n",
       "      <td>0.362800</td>\n",
       "      <td>0.195079</td>\n",
       "      <td>California</td>\n",
       "      <td>CA</td>\n",
       "      <td>116</td>\n",
       "      <td>117</td>\n",
       "      <td>California</td>\n",
       "      <td>CA</td>\n",
       "      <td>...</td>\n",
       "      <td></td>\n",
       "      <td></td>\n",
       "      <td></td>\n",
       "      <td>Raul Ruiz (D)</td>\n",
       "      <td>21311</td>\n",
       "      <td>Dianne Feinstein (D)</td>\n",
       "      <td>49300</td>\n",
       "      <td>Kamala Harris (D)</td>\n",
       "      <td>41701</td>\n",
       "      <td>Gavin Newsom (D)</td>\n",
       "    </tr>\n",
       "    <tr>\n",
       "      <th>531751</th>\n",
       "      <td>2020</td>\n",
       "      <td>1261249927</td>\n",
       "      <td>1.158300</td>\n",
       "      <td>0.622824</td>\n",
       "      <td>Oregon</td>\n",
       "      <td>OR</td>\n",
       "      <td>116</td>\n",
       "      <td>117</td>\n",
       "      <td>Oregon</td>\n",
       "      <td>OR</td>\n",
       "      <td>...</td>\n",
       "      <td>Peter DeFazio (D)</td>\n",
       "      <td>Jeff Merkley (D)</td>\n",
       "      <td></td>\n",
       "      <td>Peter DeFazio (D)</td>\n",
       "      <td>15410</td>\n",
       "      <td>Ron Wyden (D)</td>\n",
       "      <td>14871</td>\n",
       "      <td>Jeff Merkley (D)</td>\n",
       "      <td>40908</td>\n",
       "      <td>Kate Brown (D)</td>\n",
       "    </tr>\n",
       "  </tbody>\n",
       "</table>\n",
       "<p>94905 rows × 93 columns</p>\n",
       "</div>"
      ],
      "text/plain": [
       "        year     case_id    weight  weight_cumulative       state  st cong  \\\n",
       "7       2006      439254  0.838927           0.755521      Nevada  NV  109   \n",
       "11      2006      439269  0.902890           0.813124  California  CA  109   \n",
       "12      2006      439270  0.612356           0.551475  California  CA  109   \n",
       "14      2006      439281  0.838927           0.755521  Washington  WA  109   \n",
       "28      2006      439362  1.992852           1.794722      Nevada  NV  109   \n",
       "...      ...         ...       ...                ...         ...  ..  ...   \n",
       "531725  2020  1261090355  0.842700           0.453124  California  CA  116   \n",
       "531735  2020  1261191455  1.758000           0.945285      Oregon  OR  116   \n",
       "531740  2020  1261130755  0.794500           0.427207  Washington  WA  116   \n",
       "531747  2020  1261149227  0.362800           0.195079  California  CA  116   \n",
       "531751  2020  1261249927  1.158300           0.622824      Oregon  OR  116   \n",
       "\n",
       "       cong_up  state_post st_post  ...   voted_rep_chosen  \\\n",
       "7          110      Nevada      NV  ...     Jill Derby (D)   \n",
       "11         110  California      CA  ...  John W. Jones (R)   \n",
       "12         110  California      CA  ...                      \n",
       "14         110  Washington      WA  ...   Darcy Burner (D)   \n",
       "28         110      Nevada      NV  ...  Jon C. Porter (R)   \n",
       "...        ...         ...     ...  ...                ...   \n",
       "531725     117         NaN     NaN  ...                      \n",
       "531735     117         NaN     NaN  ...                      \n",
       "531740     117         NaN     NaN  ...                      \n",
       "531747     117  California      CA  ...                      \n",
       "531751     117      Oregon      OR  ...  Peter DeFazio (D)   \n",
       "\n",
       "                   voted_sen_chosen           voted_gov_chosen  \\\n",
       "7                   Jack Carter (D)             Dina Titus (D)   \n",
       "11      Richard \"Dick\" Mountjoy (R)                              \n",
       "12      Richard \"Dick\" Mountjoy (R)  Arnold Schwarzenegger (R)   \n",
       "14               Maria Cantwell (D)                              \n",
       "28                  John Ensign (R)            Jim Gibbons (R)   \n",
       "...                             ...                        ...   \n",
       "531725                                                           \n",
       "531735                                                           \n",
       "531740                                                           \n",
       "531747                                                           \n",
       "531751             Jeff Merkley (D)                              \n",
       "\n",
       "                       rep_current  rep_icpsr          sen1_current  \\\n",
       "7                  Jim Gibbons (R)      29739        Harry Reid (D)   \n",
       "11               Mike Thompson (D)      29901  Dianne Feinstein (D)   \n",
       "12               Mike Thompson (D)      29901  Dianne Feinstein (D)   \n",
       "14           David G. Reichert (R)      20536      Patty Murray (D)   \n",
       "28               Jon C. Porter (R)      20334        Harry Reid (D)   \n",
       "...                            ...        ...                   ...   \n",
       "531725            Scott Peters (D)      21315  Dianne Feinstein (D)   \n",
       "531735             Greg Walden (R)      29932         Ron Wyden (D)   \n",
       "531740  Cathy McMorris Rodgers (R)      20535      Patty Murray (D)   \n",
       "531747               Raul Ruiz (D)      21311  Dianne Feinstein (D)   \n",
       "531751           Peter DeFazio (D)      15410         Ron Wyden (D)   \n",
       "\n",
       "       sen1_icpsr        sen2_current sen2_icpsr                gov_current  \n",
       "7           15054     John Ensign (R)      29537            Kenny Guinn (R)  \n",
       "11          49300   Barbara Boxer (D)      15011  Arnold Schwarzenegger (R)  \n",
       "12          49300   Barbara Boxer (D)      15011  Arnold Schwarzenegger (R)  \n",
       "14          49308  Maria Cantwell (D)      39310     Christine Gregoire (D)  \n",
       "28          15054     John Ensign (R)      29537            Kenny Guinn (R)  \n",
       "...           ...                 ...        ...                        ...  \n",
       "531725      49300   Kamala Harris (D)      41701           Gavin Newsom (D)  \n",
       "531735      14871    Jeff Merkley (D)      40908             Kate Brown (D)  \n",
       "531740      49308  Maria Cantwell (D)      39310             Jay Inslee (D)  \n",
       "531747      49300   Kamala Harris (D)      41701           Gavin Newsom (D)  \n",
       "531751      14871    Jeff Merkley (D)      40908             Kate Brown (D)  \n",
       "\n",
       "[94905 rows x 93 columns]"
      ]
     },
     "execution_count": 78,
     "metadata": {},
     "output_type": "execute_result"
    }
   ],
   "source": [
    "altdata"
   ]
  },
  {
   "cell_type": "code",
   "execution_count": 79,
   "id": "2768e8fb",
   "metadata": {},
   "outputs": [],
   "source": [
    "altdata=altdata[altdata['year'] == 2016]"
   ]
  },
  {
   "cell_type": "code",
   "execution_count": 80,
   "id": "9eb8fbba",
   "metadata": {},
   "outputs": [],
   "source": [
    "altdata=altdata.head(5000)"
   ]
  },
  {
   "cell_type": "markdown",
   "id": "18090f6c",
   "metadata": {},
   "source": [
    "Common Steps to Generate Charts using Altair \n",
    "The generation of charts using Altair is a list of steps that are described below. These steps are commonly used to generate a chart using Altair.\n",
    "\n",
    "Create a Chart object passing dataframe to it.\n",
    "Call marker type (mark_point(), mark_bar(), etc) on chart object to select chart type that will be plotted.\n",
    "Call encode() method on output from 2nd step passing it various plot properties. As a part of this step, provide details as to which column of the dataset will be used for what purpose. "
   ]
  },
  {
   "cell_type": "code",
   "execution_count": 81,
   "id": "dd973cc8",
   "metadata": {},
   "outputs": [
    {
     "data": {
      "text/html": [
       "Displaying chart at <a href='http://localhost:20979/' target='_blank'>http://localhost:20979/</a>"
      ],
      "text/plain": [
       "Displaying chart at http://localhost:20979/"
      ]
     },
     "execution_count": 81,
     "metadata": {},
     "output_type": "execute_result"
    }
   ],
   "source": [
    "alt.Chart(altdata).mark_bar().encode(\n",
    "x='age',\n",
    "y='voted_pres_16')"
   ]
  },
  {
   "cell_type": "code",
   "execution_count": 82,
   "id": "06ae7dc0",
   "metadata": {},
   "outputs": [
    {
     "data": {
      "text/html": [
       "Displaying chart at <a href='http://localhost:20979/' target='_blank'>http://localhost:20979/</a>"
      ],
      "text/plain": [
       "Displaying chart at http://localhost:20979/"
      ]
     },
     "execution_count": 82,
     "metadata": {},
     "output_type": "execute_result"
    }
   ],
   "source": [
    "alt.Chart(altdata).mark_circle().encode(\n",
    "x='age',\n",
    "y='voted_pres_16')"
   ]
  },
  {
   "cell_type": "code",
   "execution_count": 83,
   "id": "cdf86221",
   "metadata": {},
   "outputs": [
    {
     "data": {
      "text/html": [
       "Displaying chart at <a href='http://localhost:20979/' target='_blank'>http://localhost:20979/</a>"
      ],
      "text/plain": [
       "Displaying chart at http://localhost:20979/"
      ]
     },
     "execution_count": 83,
     "metadata": {},
     "output_type": "execute_result"
    }
   ],
   "source": [
    "alt.Chart(altdata).mark_circle().encode(\n",
    "x='st',\n",
    "y='age',\n",
    "color='voted_pres_16',\n",
    "size='dist')"
   ]
  },
  {
   "cell_type": "code",
   "execution_count": 84,
   "id": "bb152d36",
   "metadata": {},
   "outputs": [
    {
     "data": {
      "text/html": [
       "Displaying chart at <a href='http://localhost:20979/' target='_blank'>http://localhost:20979/</a>"
      ],
      "text/plain": [
       "Displaying chart at http://localhost:20979/"
      ]
     },
     "execution_count": 84,
     "metadata": {},
     "output_type": "execute_result"
    }
   ],
   "source": [
    "chart = alt.Chart(altdata).mark_point().encode(\n",
    "x='age',\n",
    "y='voted_pres_16',\n",
    "color='st:N',\n",
    "tooltip='st')\n",
    "chart+chart.transform_regression('age','voted_pres_16').mark_line()"
   ]
  },
  {
   "cell_type": "code",
   "execution_count": 85,
   "id": "33ef489d",
   "metadata": {},
   "outputs": [
    {
     "data": {
      "text/html": [
       "Displaying chart at <a href='http://localhost:20979/' target='_blank'>http://localhost:20979/</a>"
      ],
      "text/plain": [
       "Displaying chart at http://localhost:20979/"
      ]
     },
     "execution_count": 85,
     "metadata": {},
     "output_type": "execute_result"
    }
   ],
   "source": [
    "chart = alt.Chart(altdata).mark_point().encode(\n",
    "x='age',\n",
    "y='dist',\n",
    "color='voted_pres_16:N',\n",
    "tooltip='voted_pres_16')\n",
    "chart+chart.transform_regression('age','dist').mark_line()"
   ]
  },
  {
   "cell_type": "code",
   "execution_count": 86,
   "id": "d0aec026",
   "metadata": {},
   "outputs": [
    {
     "data": {
      "text/html": [
       "Displaying chart at <a href='http://localhost:20979/' target='_blank'>http://localhost:20979/</a>"
      ],
      "text/plain": [
       "Displaying chart at http://localhost:20979/"
      ]
     },
     "execution_count": 86,
     "metadata": {},
     "output_type": "execute_result"
    }
   ],
   "source": [
    "ageplot=alt.Chart(altdata).mark_circle().encode(\n",
    "    x='age',\n",
    "    y='voted_pres_16',\n",
    "    color='st',\n",
    "    tooltip='st',\n",
    ")\n",
    "distplot=alt.Chart(altdata).mark_circle().encode(\n",
    "    x='dist',\n",
    "    y='voted_pres_16',\n",
    "    color='st',\n",
    "    tooltip='st',\n",
    ")\n",
    "ageplot | distplot"
   ]
  },
  {
   "cell_type": "markdown",
   "id": "1b904fb6",
   "metadata": {},
   "source": [
    "This is the end of the small exploratory data analysis for my data by introducing the basic API of Altair to plot basic charts using it. Thank you!"
   ]
  },
  {
   "cell_type": "code",
   "execution_count": null,
   "id": "74ca3079",
   "metadata": {},
   "outputs": [],
   "source": []
  }
 ],
 "metadata": {
  "kernelspec": {
   "display_name": "Python 3 (ipykernel)",
   "language": "python",
   "name": "python3"
  },
  "language_info": {
   "codemirror_mode": {
    "name": "ipython",
    "version": 3
   },
   "file_extension": ".py",
   "mimetype": "text/x-python",
   "name": "python",
   "nbconvert_exporter": "python",
   "pygments_lexer": "ipython3",
   "version": "3.9.7"
  }
 },
 "nbformat": 4,
 "nbformat_minor": 5
}
